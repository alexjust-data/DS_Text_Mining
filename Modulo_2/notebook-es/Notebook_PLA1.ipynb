{
  "cells": [
    {
      "cell_type": "markdown",
      "metadata": {
        "id": "691nLbo00Jm8"
      },
      "source": [
        "# Módulo 1: Cómo interpretar y analizar automáticamente la información textual\n",
        "\n",
        "## Scripts de los métodos explicados en el módulo"
      ]
    },
    {
      "cell_type": "markdown",
      "metadata": {
        "id": "PA1izlzQ0Jm-"
      },
      "source": [
        "\n",
        "\n",
        "Hay métodos que requieren unas librerías especializadas en procesamiento del lenguaje natural (PLN) y en el análisis de textos. La librería que emplearemos para los métodos de PLN será NLTK (Natural Language Toolkit). En la siguiente dirección http://www.nltk.org y en el libro <i>Natural Language Processing with Python</i> (versión en línea: https://www.nltk.org/book/) puede obtenerse información acerca de la instalación de esta librería y de cómo puede hacerse procesamiento del lenguaje con ella.\n",
        "\n",
        "Paquetes requeridos para ejecutar este notebook:\n",
        "- NLTK, Wordcloud, SPARQLWrapper y lxml. Para la instalación podéis usar \"pip\" o \"conda\", según el sistema que tengáis instalado.\n",
        "\n",
        "- Recordad que tenéis que mantener la misma estructura de las carpetas para que el código encuentre los ficheros .csv y las imágenes que se usan.\n",
        "\n",
        "- La librería que emplearemos para el análisis textual será la librería Gensim. Para su instalación, consultad: https://radimrehurek.com/gensim/install.html\n",
        "\n",
        "<u>Nota</u>: Se recomienda emplear la versión 3.6 o 3.7 de Python."
      ]
    },
    {
      "cell_type": "code",
      "execution_count": 38,
      "metadata": {
        "id": "ex9efE1K0JnE"
      },
      "outputs": [],
      "source": [
        "#Importación de las librerías NLTK y Gensim\n",
        "\n",
        "import nltk\n",
        "import gensim"
      ]
    },
    {
      "cell_type": "markdown",
      "metadata": {
        "id": "0Yuqo9OY0JnF"
      },
      "source": [
        "La siguiente instrucción que debéis ejecutar es \"nltk.download()\". Al ejecutarla, si esperáis un momento, se os abrirá una ventana emergente con los complementos de NLTK. Hay que seleccionar \"ALL\" (o en caso de línea de comandos usar el identificador \"all\") e instalarlos todos, así lo tendréis todo listo.\n",
        "\n",
        "Si obtenemos un error relacionado con los certificados SSL, es posible que debamos instalar los certificados para el uso de SSL desde Python, mediante el comando \"Install Certificates.command\". Por ejemplo, basta con ejecutar una <i>shell</i> con:\n",
        "\n",
        "> /Applications/Python\\ 3.6/Install\\ Certificates.command"
      ]
    },
    {
      "cell_type": "code",
      "execution_count": 39,
      "metadata": {
        "colab": {
          "base_uri": "https://localhost:8080/"
        },
        "id": "800y9I1E0JnF",
        "outputId": "8c836aba-1f51-48be-e249-d2ce57ae49a5"
      },
      "outputs": [
        {
          "name": "stderr",
          "output_type": "stream",
          "text": [
            "[nltk_data] Downloading package wordnet to /Users/alex/nltk_data...\n",
            "[nltk_data]   Package wordnet is already up-to-date!\n",
            "[nltk_data] Downloading package punkt to /Users/alex/nltk_data...\n",
            "[nltk_data]   Package punkt is already up-to-date!\n",
            "[nltk_data] Downloading package averaged_perceptron_tagger to\n",
            "[nltk_data]     /Users/alex/nltk_data...\n",
            "[nltk_data]   Package averaged_perceptron_tagger is already up-to-\n",
            "[nltk_data]       date!\n",
            "[nltk_data] Downloading package stopwords to /Users/alex/nltk_data...\n",
            "[nltk_data]   Package stopwords is already up-to-date!\n"
          ]
        },
        {
          "data": {
            "text/plain": [
              "True"
            ]
          },
          "execution_count": 39,
          "metadata": {},
          "output_type": "execute_result"
        }
      ],
      "source": [
        "# Si ejecutas el notebook desde Google Colab y no ejecutas nltk.download()\n",
        "# al menos, debes descargar los siguientes complementos:\n",
        "nltk.download('wordnet')\n",
        "nltk.download('punkt')\n",
        "nltk.download('averaged_perceptron_tagger')\n",
        "nltk.download('stopwords')"
      ]
    },
    {
      "cell_type": "markdown",
      "metadata": {
        "id": "QV2dSbOs0JnG"
      },
      "source": [
        "Los siguientes scripts corresponden a los pasos explicados en los apuntes del módulo 1.\n",
        "\n",
        "## 1. Detección de palabras sin preprocesado ##"
      ]
    },
    {
      "cell_type": "markdown",
      "metadata": {
        "id": "ItzCJAwr0JnH"
      },
      "source": [
        "### 1.1 Listar palabras con el método <i>split</i> ###"
      ]
    },
    {
      "cell_type": "code",
      "execution_count": 40,
      "metadata": {
        "colab": {
          "base_uri": "https://localhost:8080/"
        },
        "id": "GZsKBbrm0JnH",
        "outputId": "8f78e732-8956-4767-cc18-baa21bf59bb7"
      },
      "outputs": [
        {
          "name": "stdout",
          "output_type": "stream",
          "text": [
            "['The', '\"Daily', 'Show\"', 'host', 'said', 'the', 'attacks', 'of', 'the', 'president', 'on', 'fellow', 'Republicans', 'at', 'a', 'meeting', 'reminded', 'him', 'of', 'a', 'drunk', 'uncle', 'calling', 'everyone', 'out', 'at', 'a', 'wedding.\"']\n"
          ]
        }
      ],
      "source": [
        "#Queremos listar las palabras de un titular del NYT\n",
        "headline = \"The \\\"Daily Show\\\" host said the attacks of the president on fellow Republicans at a meeting reminded \\\n",
        "him of a drunk uncle calling everyone out at a wedding.\\\"\"\n",
        "\n",
        "#Word_candidates es la lista de palabras resultado de hacer un split del texto allá donde hay un espacio en blanco.\n",
        "#Consideramos que el resultado es una lista de candidatos porque en realidad, como se explica en el módulo,\n",
        "#no todos son realmente palabras.\n",
        "word_candidates = headline.split()\n",
        "print(word_candidates)"
      ]
    },
    {
      "cell_type": "markdown",
      "metadata": {
        "id": "aH_4ofxf0JnI"
      },
      "source": [
        "### 1.2 Contar los candidatos a palabra obtenidos con el método <i>split</i> y según la relación significante-significado ###"
      ]
    },
    {
      "cell_type": "code",
      "execution_count": 41,
      "metadata": {
        "colab": {
          "base_uri": "https://localhost:8080/"
        },
        "id": "1zTrzBF-0JnI",
        "outputId": "1aac8425-ca41-4cbd-d177-49390b18a878"
      },
      "outputs": [
        {
          "name": "stdout",
          "output_type": "stream",
          "text": [
            "CÁLCULO MÉTODO SPLIT: Counter({'a': 3, 'the': 2, 'of': 2, 'at': 2, 'The': 1, '\"Daily': 1, 'Show\"': 1, 'host': 1, 'said': 1, 'attacks': 1, 'president': 1, 'on': 1, 'fellow': 1, 'Republicans': 1, 'meeting': 1, 'reminded': 1, 'him': 1, 'drunk': 1, 'uncle': 1, 'calling': 1, 'everyone': 1, 'out': 1, 'wedding.\"': 1}) \n",
            "\n",
            "CÁLCULO MÉTODO SIGNIFICANTE-SIGNIFICADO: Counter({'a': 3, 'the': 2, 'of': 2, 'at': 2, 'The': 1, 'Daily': 1, 'Show': 1, 'host': 1, 'said': 1, 'attacks': 1, 'president': 1, 'on': 1, 'fellow': 1, 'Republicans': 1, 'meeting': 1, 'reminded': 1, 'him': 1, 'drunk': 1, 'uncle': 1, 'calling': 1, 'everyone': 1, 'out': 1, 'wedding': 1}) \n",
            "\n",
            "CÁLCULO TRAS CONVERSIÓN A MINÚSCULAS: Counter({'the': 3, 'a': 3, 'of': 2, 'at': 2, 'daily': 1, 'show': 1, 'host': 1, 'said': 1, 'attacks': 1, 'president': 1, 'on': 1, 'fellow': 1, 'republicans': 1, 'meeting': 1, 'reminded': 1, 'him': 1, 'drunk': 1, 'uncle': 1, 'calling': 1, 'everyone': 1, 'out': 1, 'wedding': 1}) \n",
            "\n"
          ]
        }
      ],
      "source": [
        "#Importamos el método que crea un diccionario con la frecuencia de aparición de los elementos en una lista\n",
        "from collections import Counter\n",
        "\n",
        "#Método split\n",
        "word_candidates = headline.split()\n",
        "#Número de veces que los candidatos a palabra aparecen en el texto\n",
        "print(\"CÁLCULO MÉTODO SPLIT:\", Counter(word_candidates), \"\\n\")\n",
        "\n",
        "#Relación significante-significado\n",
        "#Creamos una lista de candidatos a los que les quitamos los símbolos '\"' y '.' (strip)\n",
        "stripped_candidates = [w.strip('\".') for w in word_candidates]  #A strip('\".') se le pueden añadir\n",
        "#otros símbolos (e.g: ?, !, :, etc.)\n",
        "#Número de veces que los candidatos aparecen en el texto tras sacarles los signos de puntuación\n",
        "print(\"CÁLCULO MÉTODO SIGNIFICANTE-SIGNIFICADO:\", Counter(stripped_candidates), \"\\n\")\n",
        "\n",
        "#Relación significante-significado tras convertir las palabras a minúsculas\n",
        "#Creamos una lista de candidatos sin signos de puntuación convertidos a minúsculas (lower)\n",
        "lower_case_stripped_candidates = [s.lower() for s in stripped_candidates]\n",
        "#Número de veces que los candidatos sin signos de puntuación y en minúsculas aparecen en el texto\n",
        "print(\"CÁLCULO TRAS CONVERSIÓN A MINÚSCULAS:\", Counter(lower_case_stripped_candidates),  \"\\n\")"
      ]
    },
    {
      "cell_type": "markdown",
      "metadata": {
        "id": "0MchSDNh0JnJ"
      },
      "source": [
        "## 2. Detección de palabras con preprocesado del texto ##"
      ]
    },
    {
      "cell_type": "markdown",
      "metadata": {
        "id": "vS5DrxDw0JnJ"
      },
      "source": [
        "### 2.1 Obtención de la lista de <i>tokens</i> con un <i>tokenizer</i> ###"
      ]
    },
    {
      "cell_type": "code",
      "execution_count": 42,
      "metadata": {
        "id": "lpwLPcTp0JnJ"
      },
      "outputs": [],
      "source": [
        "#Importar el método de la librería NLTK que se ocupa de obtener los tokens de un texto\n",
        "from nltk import word_tokenize"
      ]
    },
    {
      "cell_type": "code",
      "execution_count": 43,
      "metadata": {
        "colab": {
          "base_uri": "https://localhost:8080/"
        },
        "id": "5fP6pSaT0JnJ",
        "outputId": "6eb5e22b-ebff-4dfe-9859-ea1d6f625f02"
      },
      "outputs": [
        {
          "name": "stdout",
          "output_type": "stream",
          "text": [
            "['The', '``', 'Daily', 'Show', \"''\", 'host', 'said', 'the', 'attacks', 'of', 'the', 'president', 'on', 'fellow', 'Republicans', 'at', 'a', 'meeting', 'reminded', 'him', 'of', '``', 'a', 'drunk', 'uncle', 'calling', 'everyone', 'out', 'at', 'a', 'wedding', '.', \"''\"]\n"
          ]
        }
      ],
      "source": [
        "headline = \"The \\\"Daily Show\\\" host said the attacks of the president on fellow Republicans at a meeting reminded \\\n",
        "him of \\\"a drunk uncle calling everyone out at a wedding.\\\"\"\n",
        "\n",
        "#Tokens es la lista de tokens resultado de aplicar el tokenizer del NLTK al texto 'headline'\n",
        "tokens = [w for w in word_tokenize(headline)]\n",
        "\n",
        "print(tokens)"
      ]
    },
    {
      "cell_type": "markdown",
      "metadata": {
        "id": "im2OwoIM0JnK"
      },
      "source": [
        "### 2.2 Filtraje de <i>tokens</i> no alfabéticos ##"
      ]
    },
    {
      "cell_type": "code",
      "execution_count": 44,
      "metadata": {
        "id": "QdMH20Dt0JnK"
      },
      "outputs": [],
      "source": [
        "#De la lista de candidatos, queremos quitar los candidatos que no tienen caracteres alfabéticos ('\"', '.', etc.).\n",
        "#Para ello, importamos la librería de Python encargada de la gestión de expresiones regulares.\n",
        "\n",
        "import  re"
      ]
    },
    {
      "cell_type": "code",
      "execution_count": 45,
      "metadata": {
        "colab": {
          "base_uri": "https://localhost:8080/"
        },
        "id": "xk3lVXJM0JnK",
        "outputId": "3a007025-b76b-48d2-92c6-6b414969ddd4"
      },
      "outputs": [
        {
          "name": "stdout",
          "output_type": "stream",
          "text": [
            "['the', 'daily', 'show', 'host', 'said', 'the', 'attacks', 'of', 'the', 'president', 'on', 'fellow', 'republicans', 'at', 'a', 'meeting', 'reminded', 'him', 'of', 'a', 'drunk', 'uncle', 'calling', 'everyone', 'out', 'at', 'a', 'wedding']\n"
          ]
        }
      ],
      "source": [
        "#alpha_tokens es la lista de tokens del texto que han pasado el filtro. Para obtener la lista:\n",
        "#1. se convierte el texto a minúsculas (headline.lower())\n",
        "#2. se tokeniza el texto en minúsculas (word_tokenize(headline.lower()))\n",
        "#3. se añaden a la lista alpha_tokens los tokens que empiezan por un caracter alfabético (re.match(\"^[a-z]+.*))\n",
        "\n",
        "alpha_tokens = [w for w in word_tokenize(headline.lower()) if re.match(\"^[a-z]+.*\", w)]\n",
        "\n",
        "print(alpha_tokens)"
      ]
    },
    {
      "cell_type": "markdown",
      "metadata": {
        "id": "wjk62pi70JnK"
      },
      "source": [
        "### 2.3 PoS tagging ###"
      ]
    },
    {
      "cell_type": "code",
      "execution_count": 46,
      "metadata": {
        "id": "hcKR0ERw0JnK"
      },
      "outputs": [],
      "source": [
        "#Para hacer el etiquetaje de categoría gramatical de un texto, importamos el tokenizer (word_tokenize) y\n",
        "#el PoS tagger (pos_tag), ambos de la librería NLTK\n",
        "from nltk import word_tokenize, pos_tag"
      ]
    },
    {
      "cell_type": "code",
      "execution_count": 47,
      "metadata": {
        "colab": {
          "base_uri": "https://localhost:8080/"
        },
        "id": "py2pPR6q0JnL",
        "outputId": "d00d8093-0400-4ba3-b3ff-201a73f02943"
      },
      "outputs": [
        {
          "name": "stdout",
          "output_type": "stream",
          "text": [
            "[('the', 'DT'), ('``', '``'), ('daily', 'JJ'), ('show', 'NN'), (\"''\", \"''\"), ('host', 'NN'), ('said', 'VBD'), ('the', 'DT'), ('attacks', 'NNS'), ('of', 'IN'), ('the', 'DT'), ('president', 'NN'), ('on', 'IN'), ('fellow', 'JJ'), ('republicans', 'NNS'), ('at', 'IN'), ('a', 'DT'), ('meeting', 'NN'), ('reminded', 'VBD'), ('him', 'PRP'), ('of', 'IN'), ('``', '``'), ('a', 'DT'), ('drunk', 'JJ'), ('uncle', 'NN'), ('calling', 'VBG'), ('everyone', 'NN'), ('out', 'RB'), ('at', 'IN'), ('a', 'DT'), ('wedding', 'NN'), ('.', '.'), (\"''\", \"''\")]\n"
          ]
        }
      ],
      "source": [
        "headline = \"The \\\"Daily Show\\\" host said the attacks of the president on fellow Republicans at a meeting reminded \\\n",
        "him of \\\"a drunk uncle calling everyone out at a wedding.\\\"\"\n",
        "\n",
        "#El pos_tagger tiene como input la lista de tokens del texto y su output es una lista con las etiquetas de PoS de\n",
        "#cada token. El formato del output es una lista de tuplas, donde el primer elemento de la tupla es la forma de un\n",
        "#token y el segundo elemento es su categoría gramatical. Más abajo se ve la relación etiqueta-categoría gramatical\n",
        "#según el Penn Treebank\n",
        "\n",
        "#Lista de tokens del texto convertido en minúsculas\n",
        "tokens = [w for w in word_tokenize(headline.lower())]\n",
        "#PoS tagging de los tokens de la lista\n",
        "tagged_tokens = nltk.pos_tag(tokens)\n",
        "\n",
        "print(tagged_tokens)"
      ]
    },
    {
      "cell_type": "markdown",
      "metadata": {
        "id": "ScD9E-xO0JnL"
      },
      "source": [
        "<b>Etiquetas PoS</b>\n",
        "\n",
        "<ul>\n",
        "<li>DT: Determinante</li>\n",
        "<li>JJ: Adjetivo</li>\n",
        "<li>NN: Nombre en singular</li>\n",
        "<li>NNS: Nombre en plural</li>\n",
        "<li>VBD: Verbo en pasado</li>\n",
        "<li>VBG: Verbo en gerundio</li>\n",
        "<li>MD: Verbo modal</li>\n",
        "<li>IN: Preposición</li>\n",
        "<li>PRP: Pronombre</li>\n",
        "<li>RB: Adverbio</li>\n",
        "<li>CC: Conjunción coordinada</li>\n",
        "<li>CD: Numeral</li>\n",
        "</ul>"
      ]
    },
    {
      "cell_type": "markdown",
      "metadata": {
        "id": "BdSWRc-S0JnL"
      },
      "source": [
        "### 2.4 Buscador de n-gramas ###"
      ]
    },
    {
      "cell_type": "code",
      "execution_count": 48,
      "metadata": {
        "id": "-2uelQ-K0JnL"
      },
      "outputs": [],
      "source": [
        "#Para hacer la búsqueda de n-gramas de un texto, importamos el tokenizer (word_tokenize) y los métodos de búsqueda\n",
        "#de n-gramas, ambos de la librería NLTK\n",
        "\n",
        "from nltk import word_tokenize\n",
        "from nltk.util import ngrams"
      ]
    },
    {
      "cell_type": "code",
      "execution_count": 49,
      "metadata": {
        "colab": {
          "base_uri": "https://localhost:8080/"
        },
        "id": "2riObvj-0JnL",
        "outputId": "740632ed-eaa3-4013-d28f-a1863257bbff"
      },
      "outputs": [
        {
          "name": "stdout",
          "output_type": "stream",
          "text": [
            "BIGRAMAS: [('the', '``'), ('``', 'daily'), ('daily', 'show'), ('show', \"''\"), (\"''\", 'host'), ('host', 'said'), ('said', 'the'), ('the', 'attacks'), ('attacks', 'of'), ('of', 'the'), ('the', 'president'), ('president', 'on'), ('on', 'fellow'), ('fellow', 'republicans'), ('republicans', 'at'), ('at', 'a'), ('a', 'meeting'), ('meeting', 'reminded'), ('reminded', 'him'), ('him', 'of'), ('of', '``'), ('``', 'a'), ('a', 'drunk'), ('drunk', 'uncle'), ('uncle', 'calling'), ('calling', 'everyone'), ('everyone', 'out'), ('out', 'at'), ('at', 'a'), ('a', 'wedding'), ('wedding', '.'), ('.', \"''\")] \n",
            "\n",
            "TRIGRAMAS: [('the', '``', 'daily'), ('``', 'daily', 'show'), ('daily', 'show', \"''\"), ('show', \"''\", 'host'), (\"''\", 'host', 'said'), ('host', 'said', 'the'), ('said', 'the', 'attacks'), ('the', 'attacks', 'of'), ('attacks', 'of', 'the'), ('of', 'the', 'president'), ('the', 'president', 'on'), ('president', 'on', 'fellow'), ('on', 'fellow', 'republicans'), ('fellow', 'republicans', 'at'), ('republicans', 'at', 'a'), ('at', 'a', 'meeting'), ('a', 'meeting', 'reminded'), ('meeting', 'reminded', 'him'), ('reminded', 'him', 'of'), ('him', 'of', '``'), ('of', '``', 'a'), ('``', 'a', 'drunk'), ('a', 'drunk', 'uncle'), ('drunk', 'uncle', 'calling'), ('uncle', 'calling', 'everyone'), ('calling', 'everyone', 'out'), ('everyone', 'out', 'at'), ('out', 'at', 'a'), ('at', 'a', 'wedding'), ('a', 'wedding', '.'), ('wedding', '.', \"''\")]\n"
          ]
        }
      ],
      "source": [
        "#El buscador de n-gramas tiene como input la lista de tokens del texto y su output es una lista con los n-gramas\n",
        "#de un orden N. Los n-gramas se representan en forma de tupla.\n",
        "\n",
        "headline = \"The \\\"Daily Show\\\" host said the attacks of the president on fellow Republicans at a meeting reminded \\\n",
        "him of \\\"a drunk uncle calling everyone out at a wedding.\\\"\"\n",
        "\n",
        "#Lista de tokens del texto convertido en minúsculas\n",
        "tokens = [w for w in word_tokenize(headline.lower())]\n",
        "\n",
        "#Lista de bigramas\n",
        "print (\"BIGRAMAS:\", list(ngrams(tokens, 2)),\"\\n\")\n",
        "\n",
        "#Lista de trigramas\n",
        "print (\"TRIGRAMAS:\", list(ngrams(tokens, 3)))"
      ]
    },
    {
      "cell_type": "markdown",
      "metadata": {
        "id": "pn2vSADD0JnL"
      },
      "source": [
        "Pero no todos los n-gramas son posibles candidatos a colocaciones."
      ]
    },
    {
      "cell_type": "markdown",
      "metadata": {
        "id": "Zamc8uny0JnM"
      },
      "source": [
        "### 2.5 Búsqueda de n-gramas que son colocaciones ###"
      ]
    },
    {
      "cell_type": "code",
      "execution_count": 50,
      "metadata": {
        "id": "17AVPkUv0JnM"
      },
      "outputs": [],
      "source": [
        "#Para hacer la búsqueda de n-gramas que son colocaciones, importamos el tokenizer (word_tokenize) y los métodos de\n",
        "#búsqueda de colocaciones, ambos de la librería NLTK\n",
        "\n",
        "from nltk import word_tokenize\n",
        "from nltk.collocations import *\n",
        "\n",
        "#De los métodos de búsqueda de colocaciones, cargamos las métricas de cálculo de los bigramas y trigramas\n",
        "#candidatos a ser colocaciones\n",
        "bigram_measures = nltk.collocations.BigramAssocMeasures()\n",
        "trigram_measures = nltk.collocations.TrigramAssocMeasures()\n",
        "\n",
        "#También importamos la librería de Python encargada de la gestión de expresiones regulares, para poner restricciones\n",
        "#en los n-gramas encontrados. Por ejemplo, que el token inicial y el final no sean signos de puntuación\n",
        "\n",
        "import re"
      ]
    },
    {
      "cell_type": "code",
      "execution_count": 51,
      "metadata": {
        "id": "pPBXM29S0JnM"
      },
      "outputs": [],
      "source": [
        "#La búsqueda de colocaciones se hace con la función get_collocations. Esta función tiene dos argumentos:\n",
        "#1. el texto en el que se buscan las colocaciones;\n",
        "#2. un número N de los mejores candidatos a ser colocaciones que queremos encontrar (e.g: N=10).\n",
        "\n",
        "#El output es una lista de los N mejores candidatos a ser colocaciones que se han encontrado\n",
        "\n",
        "#Funciones llamadas por la función get_collocations\n",
        "#get_coll_candidates: obtiene los bigramas y trigramas candidatos a ser una colocación\n",
        "#re_filter_candidates: de la lista de candidatos se quitan aquellos que tienen algún non-word element\n",
        "#(por ejemplo, se quita el n-grama '\" daily')\n",
        "#get_n_best_candidates: obtiene los N mejores candidatos aplicando el cálculo del PMI\n",
        "\n",
        "def get_coll_candidates(tokens):\n",
        "    bigramcandidates = BigramCollocationFinder.from_words(tokens)\n",
        "    trigramcandidates = TrigramCollocationFinder.from_words(tokens)\n",
        "    return bigramcandidates , trigramcandidates\n",
        "\n",
        "def re_filter_candidates(bigram_coll_candidates, trigram_coll_candidates):\n",
        "    bigram_coll_candidates.apply_word_filter(lambda w: (re.match(r'\\W', w)))\n",
        "    trigram_coll_candidates.apply_word_filter(lambda w: (re.match(r'\\W',w)))\n",
        "    return bigram_coll_candidates, trigram_coll_candidates\n",
        "\n",
        "def get_n_best_candidates(bigram_candidates, trigram_candidates, n_best_collocations):\n",
        "    nbest_bigram_candidates = bigram_candidates.nbest(bigram_measures.pmi,n_best_collocations)\n",
        "    nbest_trigram_candidates = trigram_candidates.nbest(trigram_measures.pmi,n_best_collocations)\n",
        "    return nbest_bigram_candidates, nbest_trigram_candidates\n",
        "\n",
        "#La función get_collocations realiza lo siguiente:\n",
        "#1. Crea la lista de tokens del texto (word_tokenize)\n",
        "#2. A partir de la lista de tokens, busca los bigramas y trigramas que son candidatos a ser colocaciones\n",
        "#según unos cálculos estadísticos. En este caso, se realiza el cálculo del PMI (Pointwise Mutual Information)\n",
        "#3. Retorna los N mejores candidatos\n",
        "\n",
        "def get_collocations(text, n_best_collocations):\n",
        "    #Creación de la lista de tokens\n",
        "    tokens = word_tokenize(text)\n",
        "    #A partir de los tokens obtenemos los candidatos a colocaciones que son bigramas y trigramas\n",
        "    bigram_coll_candidates, trigram_coll_candidates = get_coll_candidates(tokens)\n",
        "    #Aplicamos un primer filtro de expresiones regulares a los candidatos\n",
        "    bigram_coll_candidates_filtered, trigram_coll_candidates_filtered = re_filter_candidates(bigram_coll_candidates,\n",
        "                                                                                            trigram_coll_candidates)\n",
        "    #De los bigramas y trigramas filtrados obtenemos los N mejores candidatos con métodos estadísticos\n",
        "    best_bigrams_cand, best_trigrams_cand = get_n_best_candidates(bigram_coll_candidates_filtered,\n",
        "                                                                 trigram_coll_candidates_filtered,\n",
        "                                                                 n_best_collocations)\n",
        "    #Se unen los bigramas y trigramas candidatos a ser colocaciones en una lista de tuplas (collocation_candidates)\n",
        "    collocation_candidates = best_bigrams_cand + best_trigrams_cand\n",
        "    print(\"NGRAMAS CANDIDATOS A SER COLOCACIONES\", collocation_candidates, '\\n')\n",
        "    #Convertimos cada tupla en un string donde cada elemento de la tupla se une con el caracter \"_\".\n",
        "    #Por ejemplo, ('new', 'york') => new_york\n",
        "    collocations = [\"_\".join(cc) for cc in collocation_candidates]\n",
        "    return collocations"
      ]
    },
    {
      "cell_type": "code",
      "execution_count": 52,
      "metadata": {
        "colab": {
          "base_uri": "https://localhost:8080/"
        },
        "id": "08hKhw180JnM",
        "outputId": "c535bce9-055d-401a-d104-f819791697cc"
      },
      "outputs": [
        {
          "name": "stdout",
          "output_type": "stream",
          "text": [
            "NGRAMAS CANDIDATOS A SER COLOCACIONES [('calling', 'everyone'), ('daily', 'show'), ('drunk', 'uncle'), ('everyone', 'out'), ('fellow', 'republicans'), ('host', 'said'), ('meeting', 'reminded'), ('on', 'fellow'), ('president', 'on'), ('reminded', 'him'), ('calling', 'everyone', 'out'), ('drunk', 'uncle', 'calling'), ('meeting', 'reminded', 'him'), ('on', 'fellow', 'republicans'), ('president', 'on', 'fellow'), ('uncle', 'calling', 'everyone'), ('everyone', 'out', 'at'), ('fellow', 'republicans', 'at'), ('reminded', 'him', 'of'), ('a', 'drunk', 'uncle')] \n",
            "\n",
            "TÉRMINOS CANDIDATOS A SER COLOCACIONES ['calling_everyone', 'daily_show', 'drunk_uncle', 'everyone_out', 'fellow_republicans', 'host_said', 'meeting_reminded', 'on_fellow', 'president_on', 'reminded_him', 'calling_everyone_out', 'drunk_uncle_calling', 'meeting_reminded_him', 'on_fellow_republicans', 'president_on_fellow', 'uncle_calling_everyone', 'everyone_out_at', 'fellow_republicans_at', 'reminded_him_of', 'a_drunk_uncle']\n"
          ]
        }
      ],
      "source": [
        "#Ejemplo de búsqueda de colocaciones\n",
        "\n",
        "text = \"The \\\"Daily Show\\\" host said the attacks of the president on fellow Republicans at a meeting reminded \\\n",
        "him of \\\"a drunk uncle calling everyone out at a wedding.\\\"\"\n",
        "\n",
        "collocations = get_collocations(text.lower(), 10) #De un texto en minúsculas, obtener los diez mejores bigramas y\n",
        "#trigramas candidatos a ser colocaciones\n",
        "\n",
        "print(\"TÉRMINOS CANDIDATOS A SER COLOCACIONES\", collocations)"
      ]
    },
    {
      "cell_type": "markdown",
      "metadata": {
        "id": "3Aif-BK30JnM"
      },
      "source": [
        "### 2.6 Filtraje de candidatos a colocaciones con una lista de <i>stop words</i> ###"
      ]
    },
    {
      "cell_type": "code",
      "execution_count": 53,
      "metadata": {
        "id": "vJ4Wi_V30JnN"
      },
      "outputs": [],
      "source": [
        "stopwords = []\n",
        "\n",
        "#Importamos la lista que está en la librería NLTK. Para obtener la lista de stopwords de NLTK en distintas lenguas,\n",
        "#véase: https://sangeetablog.wordpress.com/2015/07/28/download-stopwords-from-nltk-library/#\n",
        "stopwords = nltk.corpus.stopwords.words('english')"
      ]
    },
    {
      "cell_type": "code",
      "execution_count": 54,
      "metadata": {
        "id": "jfSC6dLv0JnN"
      },
      "outputs": [],
      "source": [
        "#La función get_collocations se ha modificado añadiendo un segundo filtrado a los candidatos a colocaciones.\n",
        "#Este filtrado lo produce la función filter_collocation_candidates, que a su vez llama el método\n",
        "#good_stw_candidate\n",
        "\n",
        "#La función good_stw_candidate comprueba que el candidato a colocación no tiene un token inicial o final\n",
        "#en la lista de stopwords. El token inicial ocupa la primera posición de la tupla que representa la\n",
        "#colocación (e.g: 'on' en ('on', 'fellow')). El token final ocupa, por tanto, la última posición de esta tupla.\n",
        "\n",
        "def good_stw_candidate(candidate):\n",
        "    test = True\n",
        "    if candidate[0] in stopwords or candidate[-1] in stopwords:\n",
        "        test = False\n",
        "    return test\n",
        "\n",
        "def filter_collocation_candidates(candidates):\n",
        "    #Si hemos cargado una lista de stopwords\n",
        "    if len(stopwords) > 0:\n",
        "         #Creamos una lista de candidatos que pasan el test de stopwords\n",
        "        col_candidates_filtered = [c for c in candidates if good_stw_candidate(c) == True]\n",
        "    else:\n",
        "        col_candidates_filtered = candidates\n",
        "    return col_candidates_filtered\n",
        "\n",
        "def get_collocations(text, n_best_collocations):\n",
        "    #Creación de la lista de tokens\n",
        "    tokens = word_tokenize(text)\n",
        "    #A partir de los tokens obtenemos los candidatos a colocaciones que son bigramas y trigramas\n",
        "    bigram_coll_candidates, trigram_coll_candidates = get_coll_candidates(tokens)\n",
        "    #Aplicamos un primer filtro de expresiones regulares a los candidatos\n",
        "    bigram_coll_candidates_filtered, trigram_coll_candidates_filtered = re_filter_candidates(bigram_coll_candidates,\n",
        "                                                                                            trigram_coll_candidates)\n",
        "    #De los bigramas y trigramas filtrados obtenemos los N mejores candidatos con métodos estadísticos\n",
        "    best_bigrams_cand, best_trigrams_cand = get_n_best_candidates(bigram_coll_candidates_filtered,\n",
        "                                                                 trigram_coll_candidates_filtered,\n",
        "                                                                 n_best_collocations)\n",
        "    #Se unen los bigramas y trigramas candidatos a ser colocaciones en una lista de tuplas (collocation_candidates)\n",
        "    collocation_candidates = best_bigrams_cand + best_trigrams_cand\n",
        "    print(\"NGRAMAS CANDIDATOS A SER COLOCACIONES\", collocation_candidates, '\\n')\n",
        "    #Se realiza un segundo filtrado a los candidatos a colocación: se quitan los que tienen un\n",
        "    #stopword como token inicial o final\n",
        "    collocation_candidates_filtered = filter_collocation_candidates(collocation_candidates)\n",
        "    #Convertimos cada tupla en un string donde cada elemento de la tupla se une con el caracter \"_\".\n",
        "    #Por ejemplo, ('new', 'york') => new_york\n",
        "    collocations = [\"_\".join(cc) for cc in collocation_candidates_filtered]\n",
        "    return collocations"
      ]
    },
    {
      "cell_type": "code",
      "execution_count": 55,
      "metadata": {
        "colab": {
          "base_uri": "https://localhost:8080/"
        },
        "id": "GXWaOOG40JnN",
        "outputId": "e00ef6e2-467a-4877-8ab2-d75fcebf0f3d"
      },
      "outputs": [
        {
          "name": "stdout",
          "output_type": "stream",
          "text": [
            "NGRAMAS CANDIDATOS A SER COLOCACIONES [('calling', 'everyone'), ('daily', 'show'), ('drunk', 'uncle'), ('everyone', 'out'), ('fellow', 'republicans'), ('host', 'said'), ('meeting', 'reminded'), ('on', 'fellow'), ('president', 'on'), ('reminded', 'him'), ('calling', 'everyone', 'out'), ('drunk', 'uncle', 'calling'), ('meeting', 'reminded', 'him'), ('on', 'fellow', 'republicans'), ('president', 'on', 'fellow'), ('uncle', 'calling', 'everyone'), ('everyone', 'out', 'at'), ('fellow', 'republicans', 'at'), ('reminded', 'him', 'of'), ('a', 'drunk', 'uncle')] \n",
            "\n",
            "['calling_everyone', 'daily_show', 'drunk_uncle', 'fellow_republicans', 'host_said', 'meeting_reminded', 'drunk_uncle_calling', 'president_on_fellow', 'uncle_calling_everyone']\n"
          ]
        }
      ],
      "source": [
        "#Ejemplo de búsqueda de colocaciones con filtrado de stop words\n",
        "\n",
        "text = \"The \\\"Daily Show\\\" host said the attacks of the president on fellow Republicans at a meeting reminded \\\n",
        "him of \\\"a drunk uncle calling everyone out at a wedding.\\\"\"\n",
        "\n",
        "collocations = get_collocations(text.lower(),10)\n",
        "\n",
        "print(collocations)"
      ]
    },
    {
      "cell_type": "markdown",
      "metadata": {
        "id": "dvu9R1Zx0JnN"
      },
      "source": [
        "### 2.7 Filtraje de candidatos a colocaciones según el PoS de sus constituyentes ###"
      ]
    },
    {
      "cell_type": "code",
      "execution_count": 56,
      "metadata": {
        "id": "CL-cjI0l0JnN"
      },
      "outputs": [],
      "source": [
        "stopwords = []\n",
        "\n",
        "#Los tokens inicial y final no pueden ser etiquetados con ninguno de los siguientes PoS:\n",
        "no_pos_in = ['DT', 'IN', 'PRP', 'CC', 'CD','MD', 'VBG', 'VBD', 'RP']"
      ]
    },
    {
      "cell_type": "code",
      "execution_count": 57,
      "metadata": {
        "id": "FJBbNdoE0JnO"
      },
      "outputs": [],
      "source": [
        "#La función filter_collocation_candidates se ha modificado. Si no se ha elegido la opción de filtrar\n",
        "#con stopwords, la función retorna la lista de candidatos a colocación que superan el test definido\n",
        "#por la función good_PoS_candidate.\n",
        "\n",
        "#La función good_PoS_candidate comprueba que el candidato a colocación no tiene un token inicial o final\n",
        "#etiquetado con una etiqueta de la lista anterior. La función realiza lo siguiente:\n",
        "#1. Etiqueta los constituyentes del candidato a colocación con un PoS tagger\n",
        "#2. Comprueba que ni la etiqueta de PoS del token inicial ni la etiqueta de PoS del token final están en la lista\n",
        "#no_pos_in\n",
        "\n",
        "def good_PoS_candidate(candidate):\n",
        "    test = True\n",
        "    tokens = list(candidate) # Convertimos la tupla del candidato en una lista de tokens;\n",
        "                             # tokens = ['and', 'reason']\n",
        "    tagged_tokens = nltk.pos_tag(tokens) # PoS tagging [('calling', 'VBG'), ('everyone', 'NN')]\n",
        "    if tagged_tokens[0][1] in no_pos_in or tagged_tokens[-1][1] in no_pos_in:\n",
        "        test = False\n",
        "    return test\n",
        "\n",
        "\n",
        "def filter_collocation_candidates(candidates):\n",
        "    #Si hemos cargado una lista de stopwords\n",
        "    if len(stopwords) > 0:\n",
        "        #Creamos una lista de candidatos que pasan el test de stopwords\n",
        "        col_candidates_filtered = [c for c in candidates if good_stw_candidate(c) == True]\n",
        "    #Si no se filtra por stopwords,\n",
        "    else:\n",
        "        #Creamos una lista de candidatos que pasan el test de PoS\n",
        "        col_candidates_filtered = [c for c in candidates if good_PoS_candidate(c) == True]\n",
        "    return col_candidates_filtered"
      ]
    },
    {
      "cell_type": "code",
      "execution_count": 58,
      "metadata": {
        "colab": {
          "base_uri": "https://localhost:8080/"
        },
        "id": "kOMuBr3n0JnO",
        "outputId": "e7a46495-82e8-4316-8557-790a0292534e"
      },
      "outputs": [
        {
          "name": "stdout",
          "output_type": "stream",
          "text": [
            "NGRAMAS CANDIDATOS A SER COLOCACIONES [('calling', 'everyone'), ('daily', 'show'), ('drunk', 'uncle'), ('everyone', 'out'), ('fellow', 'republicans'), ('host', 'said'), ('meeting', 'reminded'), ('on', 'fellow'), ('president', 'on'), ('reminded', 'him'), ('calling', 'everyone', 'out'), ('drunk', 'uncle', 'calling'), ('meeting', 'reminded', 'him'), ('on', 'fellow', 'republicans'), ('president', 'on', 'fellow'), ('uncle', 'calling', 'everyone'), ('everyone', 'out', 'at'), ('fellow', 'republicans', 'at'), ('reminded', 'him', 'of'), ('a', 'drunk', 'uncle')] \n",
            "\n",
            "['daily_show', 'drunk_uncle', 'fellow_republicans', 'president_on_fellow', 'uncle_calling_everyone']\n"
          ]
        }
      ],
      "source": [
        "#Ejemplo de búsqueda de colocaciones con filtrado según PoS de los constituyentes.\n",
        "\n",
        "text = \"The \\\"Daily Show\\\" host said the attacks of the president on fellow Republicans at a meeting reminded \\\n",
        "him of \\\"a drunk uncle calling everyone out at a wedding.\\\"\"\n",
        "\n",
        "collocations = get_collocations(text.lower(),10)\n",
        "\n",
        "print(collocations)"
      ]
    },
    {
      "cell_type": "markdown",
      "metadata": {
        "id": "sXuvz6GR0JnO"
      },
      "source": [
        "### 2.8 Detección de términos que tienen el patrón Nombre y Nombre + Nombre ###"
      ]
    },
    {
      "cell_type": "markdown",
      "metadata": {
        "id": "qrk7cCDy0JnO"
      },
      "source": [
        "Ejemplos de árboles sintácticos generados por un <i>parser</i>, con un nodo N del que cuelga un nombre y un nodo CN del que cuelgan dos nombres."
      ]
    },
    {
      "cell_type": "markdown",
      "metadata": {
        "id": "bIjtiCGz0JnT"
      },
      "source": [
        "![title](figs/N-TREE.png \"ShowMyImage\")\n",
        "![title](figs/N-N-TREE.png \"ShowMyImage\")"
      ]
    },
    {
      "cell_type": "code",
      "execution_count": 59,
      "metadata": {
        "id": "QiDZZfHo0JnT"
      },
      "outputs": [],
      "source": [
        "#La búsqueda de términos con el patrón Nombre y Nombre + Nombre se hace con la función get_n_and_cn.\n",
        "\n",
        "#Esta función tiene un argumento:\n",
        "#Las tuplas de los tokens del texto etiquetados con su etiqueta PoS\n",
        "#Tras crear un árbol sintáctico del texto, el output es una lista de términos que cuelgan de los nodos N y CN que el\n",
        "#parser ha encontrado\n",
        "\n",
        "#La función get_n_and_cn realiza lo siguiente:\n",
        "#1. A partir de la lista de tokens etiquetados con su etiqueta PoS, el parser crea un árbol donde los nodos N y CN\n",
        "#tienen unos patterns sintácticos definidos previamente\n",
        "#2. Para cada nodo N y CN, se crea un término con las hojas que penden de él y se añaden a una lista de términos.\n",
        "#3. Devuelve la lista de términos encontrados\n",
        "\n",
        "#La función get_n_and_cn llama a la función patterns_and_parser para definir los patterns sintácticos de N y CN, y\n",
        "#también los parsers que construirán estos nodos en el árbol\n",
        "\n",
        "def patterns_and_parser():\n",
        "#Definición de los patterns sintácticos de un nodo N. La hoja de un nodo N es un nombre en singular (NN)\n",
        "#o en plural (NNS)\n",
        "    n_patterns = \"\"\"\n",
        "              N: {<NN>|<NNS>}\n",
        "              \"\"\"\n",
        "#Definición de los patterns sintácticos de un nodo CN. Las hojas de un nodo CN son dos nombres en singular\n",
        "    cn_patterns = \"\"\"\n",
        "              CN: {<NN> <NN>}\n",
        "              \"\"\"\n",
        "#Definición del parser que creará los nodos N del árbol\n",
        "    n_parser = nltk.RegexpParser(n_patterns)\n",
        "#Definición del parser que creará los nodos CN del árbol\n",
        "    cn_parser = nltk.RegexpParser(cn_patterns)\n",
        "    return n_patterns, cn_patterns, n_parser, cn_parser\n",
        "\n",
        "\n",
        "def get_string_form(tuple_list):\n",
        "    words = [cti[0] for cti in tuple_list]\n",
        "    string_form = \"_\".join(words)\n",
        "    return string_form\n",
        "\n",
        "\n",
        "def get_n_and_cn(tagged_tokens):\n",
        "    #Definición de patterns sintácticos y parser\n",
        "    n_patterns, cn_patterns, n_parser, cn_parser = patterns_and_parser()\n",
        "    #Creación de los árboles con los nodos N\n",
        "    n_tree = n_parser.parse(tagged_tokens)\n",
        "    #Creación de los árboles con los nodos CN\n",
        "    cn_tree = cn_parser.parse(tagged_tokens)\n",
        "    #Listado de las hojas de los nodos N\n",
        "    n_leaves = [s.leaves() for s in n_tree.subtrees() if s.label() == 'N'] # Lista de hojas N. Una hoja es una lista\n",
        "                                                                           # de tuplas (token, PoS)\n",
        "                                                                           #(e.g: [[('philosophers', 'NNS')],...])\n",
        "    #Listado de las hojas de los nodos CN\n",
        "    cn_leaves = [s.leaves() for s in cn_tree.subtrees() if s.label() == 'CN'] # Lista de hojas CN\n",
        "                                                                              # (e.g: [('world', 'NN'),\n",
        "                                                                              #        ('event', 'NN')],...])\n",
        "    #Unión de los dos listados\n",
        "    n_cn_tuples = n_leaves + cn_leaves\n",
        "    #Conversión de las tuplas que representan las hojas al término\n",
        "    n_and_cn = [get_string_form(c) for c in n_cn_tuples]#e.g: [('world', 'NN'), ('event', 'NN')] -> world_event\n",
        "    return n_and_cn"
      ]
    },
    {
      "cell_type": "code",
      "execution_count": 60,
      "metadata": {
        "colab": {
          "base_uri": "https://localhost:8080/"
        },
        "id": "SOMOnD-q0JnT",
        "outputId": "a4617d15-648d-4fbf-a8b1-e5a12c5937c2"
      },
      "outputs": [
        {
          "name": "stdout",
          "output_type": "stream",
          "text": [
            "['show', 'host', 'attacks', 'president', 'trump', 'republicans', 'meeting', 'uncle', 'everyone', 'wedding', 'president_trump']\n"
          ]
        }
      ],
      "source": [
        "#Ejemplo de detección de constituyentes con patrón N y N+N.\n",
        "\n",
        "text = \"The \\\"Daily Show\\\" host said the attacks of president Trump on fellow Republicans at a meeting reminded him \\\n",
        "        of \\\"a drunk uncle calling everyone out at a wedding.\\\"\"\n",
        "\n",
        "#Tokenización del texto en minúsculas\n",
        "tokens = [w for w in word_tokenize(text.lower())]\n",
        "#PoS tagging de los tokens\n",
        "tagged_tokens = nltk.pos_tag(tokens)\n",
        "#Lista de términos que forman un N o un CN\n",
        "n_and_cn = get_n_and_cn(tagged_tokens)\n",
        "print(n_and_cn)"
      ]
    },
    {
      "cell_type": "markdown",
      "metadata": {
        "id": "N13T1twF0JnU"
      },
      "source": [
        "## 3. Detección de términos relevantes ##"
      ]
    },
    {
      "cell_type": "markdown",
      "metadata": {
        "id": "4grqi1tC0JnU"
      },
      "source": [
        "### 3.1 Ley de Zipf ###"
      ]
    },
    {
      "cell_type": "markdown",
      "metadata": {
        "id": "K8ReeFyI0JnU"
      },
      "source": [
        "El corpus utilizado es el conjunto de titulares del <i>New York Times</i> publicados el marzo de 2018. El fichero del corpus se ha tomado del kernel llamado <i>March 2018 NYT Headline Click Bait</i> de la competición de Kaggle <i>New York Times Comments</i> (https://www.kaggle.com/aashita/nyt-comments)."
      ]
    },
    {
      "cell_type": "code",
      "execution_count": 61,
      "metadata": {
        "id": "c3YYFBJ40JnU"
      },
      "outputs": [],
      "source": [
        "#Preparación del corpus: titulares del NYT\n",
        "#El fichero del corpus tiene el formato .csv. El fichero contiene los titulares y otros datos organizados en\n",
        "#forma de tabla. Por ello, utilizamos la librería Pandas para obtener el texto de los titulares\n",
        "\n",
        "import pandas as pd\n",
        "\n",
        "#Transformamos el contenido del fichero en un dataframe\n",
        "df= pd.read_csv(\"ArticlesMarch2018.csv\")\n",
        "\n",
        "#Los textos de los titulares están en la columna 'headline'. Concatenamos todos los textos en un string (headline_\n",
        "#texts)\n",
        "headline_texts = \" \".join(df.headline.tolist())"
      ]
    },
    {
      "cell_type": "code",
      "execution_count": 62,
      "metadata": {
        "id": "tZJMOrpX0JnU"
      },
      "outputs": [],
      "source": [
        "#Importar módulos\n",
        "\n",
        "#1. Importar métodos de procesamiento de lenguaje natural\n",
        "\n",
        "import nltk\n",
        "#Importar tokenizador del paquete NLTK\n",
        "from nltk import word_tokenize\n",
        "#Importar los métodos estadísticos de NLTK, concretamente la distribución de la frecuencia de tokens en un texto\n",
        "#(FreqDist)\n",
        "from nltk.probability import FreqDist\n",
        "\n",
        "#2. Importar la librería de Python encargada de la gestión de expresiones regulares\n",
        "\n",
        "import re\n",
        "\n",
        "#3. Importar la librería de Python de visualización de los datos\n",
        "\n",
        "import matplotlib.pyplot as plt"
      ]
    },
    {
      "cell_type": "code",
      "execution_count": 63,
      "metadata": {
        "colab": {
          "base_uri": "https://localhost:8080/"
        },
        "id": "zGH_QCpg0JnU",
        "outputId": "62fb2f07-deb2-4e92-a236-dfaf04e1f698"
      },
      "outputs": [
        {
          "name": "stdout",
          "output_type": "stream",
          "text": [
            "['the:382', 'a:280', 'to:221', 'in:219', 'of:192', 's:184', 'and:165', 'for:138', 'trump:119', 'is:105']\n"
          ]
        }
      ],
      "source": [
        "#La función build_zipf_histogram crea el histograma de las palabras del texto\n",
        "#El argumento de la función es el texto\n",
        "#El output es la representación del histograma\n",
        "\n",
        "def build_zipf_histogram(text):\n",
        "    #Obtenemos la lista de tokens del texto en minúsculas\n",
        "    tokens = [w for w in word_tokenize(text.lower())]\n",
        "    #La frecuencia de cada token se guarda en un diccionario que representa la distribución de la frecuencia de\n",
        "    #los tokens del texto (frequency distribution (FreqDist))\n",
        "    freqDistribution = nltk.FreqDist(tokens)\n",
        "    #La lista de tokens del diccionario se ordenan por su valor de frecuencia. Así, los tokens se organizan según\n",
        "    #su rango, de mayor frecuencia a menor frecuencia\n",
        "    sortedtokens = sorted(freqDistribution, key=freqDistribution.get,reverse=True)\n",
        "    #Se crea una lista para el histograma que representa la distribución de la frecuencia de los tokens.\n",
        "    histogram = []\n",
        "    #Se crea una lista que recoge la frecuencia de cada token\n",
        "    freqword = []\n",
        "    #Elaboración del histograma\n",
        "    for t in sortedtokens:\n",
        "        #Los tokens del histograma deben ser de tipo palabra (se filtran los tokens que no tienen caracteres\n",
        "        #alfanuméricos) y no ser un token 'unknown', que significa que no hay titular\n",
        "        if re.match(r'\\w',t) and t != 'unknown':\n",
        "            #Añadimos la frecuencia del token al histograma. Ahora el token ya se considera una palabra\n",
        "            histogram.append(freqDistribution[t])\n",
        "            #Añadimos a la lista freqword un elemento palabra:frecuencia\n",
        "            freqword.append(t + \":\" + str(freqDistribution[t]))\n",
        "    #Imprimimos la frecuencia de las palabras del rango 1 al 10. Así vemos que la mayoría de estas palabras\n",
        "    #son stopwords\n",
        "    print(freqword[:10])\n",
        "    return histogram\n",
        "\n",
        "zipf_histogram = build_zipf_histogram(headline_texts)"
      ]
    },
    {
      "cell_type": "code",
      "execution_count": 64,
      "metadata": {
        "colab": {
          "base_uri": "https://localhost:8080/",
          "height": 454
        },
        "id": "GcALTlpR0JnV",
        "outputId": "968175d8-b2b3-412b-8d64-41f4c5cebd24",
        "scrolled": true
      },
      "outputs": [
        {
          "data": {
            "image/png": "[encoded data removed]",
            "text/plain": [
              "<Figure size 640x480 with 1 Axes>"
            ]
          },
          "metadata": {},
          "output_type": "display_data"
        }
      ],
      "source": [
        "#La función plot_zipf representa gráficamente la relación entre la frecuencia de las palabras ('Number of\n",
        "#occurrences') y su rango ('Rank').\n",
        "#La función tiene como argumento el histograma.\n",
        "\n",
        "def plot_zipf(histogram):\n",
        "    plt.xlabel('Rank')\n",
        "    plt.ylabel('Number of ocurrences')\n",
        "    plt.plot(histogram, '.')\n",
        "    plt.show()\n",
        "\n",
        "plot_zipf(zipf_histogram)"
      ]
    },
    {
      "cell_type": "markdown",
      "metadata": {
        "collapsed": true,
        "id": "wVzCaqZm0JnV"
      },
      "source": [
        "### 3.2 Lematización y <i>stemming</i> ###"
      ]
    },
    {
      "cell_type": "code",
      "execution_count": 65,
      "metadata": {
        "colab": {
          "base_uri": "https://localhost:8080/"
        },
        "id": "RsM91RQ30JnV",
        "outputId": "0a2123de-be45-4ce7-ccd6-203f09c1383d",
        "scrolled": true
      },
      "outputs": [
        {
          "name": "stdout",
          "output_type": "stream",
          "text": [
            "EL LEMA DE 'FEET' ES foot\n",
            "EL LEMA DE 'ELEPHANTS' ES elephant\n",
            "EL LEMA DE 'COMMUNITIES' ES community\n",
            "EL STEM DE 'FEET' ES feet\n",
            "EL STEM DE 'ELEPHANTS' ES eleph\n",
            "EL STEM DE 'COMMUNITIES' ES commun\n"
          ]
        }
      ],
      "source": [
        "import nltk\n",
        "#Importar los métodos de la librería NLTK que lematizan según Wordnet\n",
        "from nltk.stem.wordnet import WordNetLemmatizer\n",
        "#Importar los métodos de la librería NLTK que hacen el stemming según el algoritmo Porter Stemmer\n",
        "from nltk.stem import PorterStemmer\n",
        "\n",
        "#Definimos el lematizador\n",
        "lem = WordNetLemmatizer()\n",
        "print(\"EL LEMA DE 'FEET' ES\", lem.lemmatize('feet'))\n",
        "print(\"EL LEMA DE 'ELEPHANTS' ES\",lem.lemmatize('elephants'))\n",
        "print(\"EL LEMA DE 'COMMUNITIES' ES\",lem.lemmatize('communities'))\n",
        "\n",
        "#Definimos el stemmer\n",
        "stemmer = PorterStemmer()\n",
        "print(\"EL STEM DE 'FEET' ES\", stemmer.stem('feet'))\n",
        "print(\"EL STEM DE 'ELEPHANTS' ES\", stemmer.stem('elephants'))\n",
        "print(\"EL STEM DE 'COMMUNITIES' ES\", stemmer.stem('communities'))"
      ]
    },
    {
      "cell_type": "markdown",
      "metadata": {
        "id": "ostfLSbO0JnV"
      },
      "source": [
        "### 3.3 Términos lematizados y unificados de un texto ###"
      ]
    },
    {
      "cell_type": "markdown",
      "metadata": {
        "id": "lRhHThsG0JnV"
      },
      "source": [
        "Representación de los términos lematizados y unificados de los titulares del NYT en forma de <i>word cloud</i>. La lematización se hace consultando Wordnet, que requiere del PoS de la palabra que se quiere lematizar."
      ]
    },
    {
      "cell_type": "code",
      "execution_count": 66,
      "metadata": {
        "id": "JpUxOaID0JnV"
      },
      "outputs": [],
      "source": [
        "#Importar la librería NLTK\n",
        "import nltk\n",
        "#Importar tokenizador del paquete NLTK\n",
        "from nltk import word_tokenize"
      ]
    },
    {
      "cell_type": "code",
      "execution_count": 67,
      "metadata": {
        "id": "MrWaSZmt0JnW"
      },
      "outputs": [],
      "source": [
        "#Importar los métodos de la librería NLTK que lematizan según Wordnet\n",
        "from nltk.stem.wordnet import WordNetLemmatizer\n",
        "\n",
        "#Métodos para obtener el lema consultando Wordnet\n",
        "\n",
        "#Para obtener el lema, el término debe tener una etiqueta PoS. El formato de la etiqueta PoS de Wordnet es\n",
        "#distinto de la etiqueta del pos-tagger de NLTK\n",
        "#La función get_wn_pos traduce el formato de PoS del término según el pos-tagger al formato de PoS de Wordnet\n",
        "def get_wn_pos(pos):\n",
        "    if re.match(r'^N',pos):\n",
        "        wn_pos = 'n'\n",
        "    elif re.match(r'^V',pos):\n",
        "        wn_pos = 'v'\n",
        "    else:\n",
        "        wn_pos = 'n' #En inglés, los lemas de términos que no son verbos ni nombres se obtienen como si fueran\n",
        "                        #nombres\n",
        "    return wn_pos\n",
        "\n",
        "#La función wnlemmatize lematiza el término con una etiqueta PoS según el lematizador de Wordnet\n",
        "def wnlemmatize(t,postag):\n",
        "    lemma = \"\"\n",
        "    #Definición del lematizador\n",
        "    lem = WordNetLemmatizer()\n",
        "    #Si el candidato es monopalabra, se obtiene el lema con el lematizador de WordNet según su PoS\n",
        "    if ' ' not in t:\n",
        "        lemma = lem.lemmatize(t,get_wn_pos(postag[0][1]))\n",
        "    #Si el candidato es multipalabra, obtenemos su lema como si fuera un nombre, aplicando el lematizador de WordNet\n",
        "    else:\n",
        "        lemma = lem.lemmatize(t,'n')\n",
        "    return lemma"
      ]
    },
    {
      "cell_type": "code",
      "execution_count": 68,
      "metadata": {
        "id": "L4VDLZUi0JnW"
      },
      "outputs": [],
      "source": [
        "#La función unify convierte la variante sinónima de un término a un término que lo representa. Por ejemplo,\n",
        "#'mr. trump' o 'donald trump' se unifican en la forma 'trump'\n",
        "\n",
        "def unify(l):\n",
        "    term_unified = l\n",
        "    if l == 'mr. trump' or l == 'donald trump':\n",
        "        term_unified = 'trump'\n",
        "    elif l == 'dpt':\n",
        "        term_unified = 'department'\n",
        "    return term_unified"
      ]
    },
    {
      "cell_type": "markdown",
      "metadata": {
        "id": "wSgMm8ST0JnW"
      },
      "source": [
        "La búsqueda del lema se aplica a una palabra o una combinación de palabras que cumplen una serie de condiciones."
      ]
    },
    {
      "cell_type": "code",
      "execution_count": 69,
      "metadata": {
        "id": "ver5YVgk0JnW"
      },
      "outputs": [],
      "source": [
        "#Importar la lista de stopwords en inglés de la librería NLTK\n",
        "stopwords = nltk.corpus.stopwords.words('english')\n",
        "#Añadimos stopwords\n",
        "stopwords = stopwords + ['unknown', 've', 'hadn', 'll', 'didn', 'isn', 'doesn', 'hasn' ]\n",
        "\n",
        "#no_pos_in es la lista de etiquetas PoS que no pueden tener el token inicial y final de un término.\n",
        "#Por ejemplo, un término no puede terminar con una preposición ('IN')\n",
        "no_pos_in = ['DT', 'IN', 'PRP', 'CC', 'CD','MD', 'VBG', 'VBD', 'RP', 'RB']\n",
        "\n",
        "#Método para evaluar la idoneidad de una palabra o una combinación de palabras\n",
        "def good_candidate(t,postag):\n",
        "    v = False\n",
        "    #Si es multipalabra\n",
        "    if ' ' in t:\n",
        "        tl = t.split(' ') #Generamos una lista de tokens\n",
        "        #el token inicial y el token final deben ser alfabéticos y no pueden estar en la lista de stopwords..\n",
        "        if re.match(\"^[a-z]+.*\", tl[0]) and re.match(\"^[a-z]+.*\", tl[-1]) and \\\n",
        "           tl[0] not in stopwords and tl[1] not in stopwords:\n",
        "            #... ni su PoS puede estar en la lista no_pos_in\n",
        "            if postag[0][1] not in no_pos_in and postag[-1][1] not in no_pos_in:\n",
        "                v = True\n",
        "    #Si es monopalabra\n",
        "    else:\n",
        "        #debe ser alfabético, y no estar en la lista de stopwords\n",
        "        if t not in stopwords and re.match(\"^[a-z]+.*\", t):\n",
        "            #y su PoS no puede estar en la lista no_pos_in\n",
        "            if postag[0][1] not in no_pos_in:\n",
        "                v = True\n",
        "    return v"
      ]
    },
    {
      "cell_type": "markdown",
      "metadata": {
        "id": "78cv0b7S0JnW"
      },
      "source": [
        "Las palabras y combinaciones de palabras proceden del aprendizaje de un modelo de <i>phrases</i>. <i>Phrases</i> son expresiones monopalabra y multipalabra que el método <i>good_candidate</i> validará como términos o no. El aprendizaje se realiza a partir de un documento. En este caso, será un documento que recoge todos los titulares.  También pueden aplicarse los métodos de búsqueda de n-gramas explicados en el apartado 2."
      ]
    },
    {
      "cell_type": "code",
      "execution_count": 70,
      "metadata": {
        "id": "mDt4wKOr0JnW"
      },
      "outputs": [],
      "source": [
        "#Crear el documento que recoge todos los titulares\n",
        "\n",
        "import pandas as pd\n",
        "\n",
        "#Transformamos el contenido del fichero en un dataframe\n",
        "df= pd.read_csv(\"ArticlesMarch2018.csv\")\n",
        "\n",
        "#Los textos de los titulares están en la columna 'headline'. Cada titular se considera la unidad discursiva\n",
        "#de un documento que recoge todos los titulares.\n",
        "\n",
        "#Creamos el documento con todos los titulares\n",
        "doc = headline_texts"
      ]
    },
    {
      "cell_type": "code",
      "execution_count": 71,
      "metadata": {
        "id": "jnzlxX7L0JnX"
      },
      "outputs": [],
      "source": [
        "import gensim\n",
        "#De la librería Gensim importamos los métodos para aprender a detectar 'phrases'. La librería Gensim está\n",
        "#hecha para encontrar phrases que son bigramas pero no trigramas. Si se quieren trigramas los phrases bigramas\n",
        "#pueden convertirse en un token y luego volver a repetir el proceso. También pueden aplicarse los métodos\n",
        "#explicados en el apartado 2.\n",
        "\n",
        "from gensim.models.phrases import Phraser\n",
        "from gensim.models import Phrases\n",
        "\n",
        "#El método Phrases necesita de los siguientes parámetros\n",
        "#a) Una lista (text_stream) que recoge los tokens de las unidades discursivas de un documento (oraciones/párrafos).\n",
        "#En nuestro caso, el text_stream es una lista cuyos elementos son los tokens de cada titular\n",
        "\n",
        "#b) Una frecuencia mínima de aparición (min_count)\n",
        "\n",
        "#c) Un umbral de idoneidad para considerar una combinación de palabras como un candidato a colocación. Su función\n",
        "#es similar a la de las métricas como el PMI. Véase: https://radimrehurek.com/gensim/models/phrases.html y\n",
        "#Mikolov, et. al: “Distributed Representations of Words and Phrases and their Compositionality”.\n",
        "\n",
        "#d) El carácter que unirá los componentes del phrase (delimiter). Por ejemplo, 'trade_war'"
      ]
    },
    {
      "cell_type": "code",
      "execution_count": 72,
      "metadata": {
        "colab": {
          "base_uri": "https://localhost:8080/"
        },
        "id": "KdaNihNf0JnX",
        "outputId": "70558a94-6ae9-451c-ae19-32f989c0e624"
      },
      "outputs": [
        {
          "name": "stdout",
          "output_type": "stream",
          "text": [
            "[['virtual', 'coins', ',', 'real', 'resources'], ['u.s.', 'advances', 'military', 'plans', 'for', 'north', 'korea'], ['mr.', 'trump', 'and', 'the', '‘', 'very', 'bad', 'judge', '’'], ['to', 'erase', 'dissent', ',', 'china', 'bans', 'pooh', 'bear', 'and', '‘', 'n', '’'], ['loans', 'flowed', 'to', 'kushner', 'cos.', 'after', 'visits', 'to', 'the', 'white', 'house'], ['china', 'envoy', 'intends', 'to', 'ease', 'trade', 'tensions'], ['president', 'trump', '’', 's', 'contradictory', ',', 'and', 'sometimes', 'false', ',', 'comments', 'about', 'gun', 'policy', 'to', 'lawmakers'], ['classic', 'letter', 'puzzle'], ['silicon', 'valley', 'disruption', 'in', 'an', 'australian', 'school'], ['‘', 'the', 'assassination', 'of', 'gianni', 'versace', '’', 'episode', '6', ':', 'a', 'nothing', 'man']]\n"
          ]
        }
      ],
      "source": [
        "#Obtener el text_stream, que seran los tokens de cada titular\n",
        "\n",
        "text_stream = [word_tokenize(d.lower()) for d in df.headline.tolist()]\n",
        "print(text_stream[:10])"
      ]
    },
    {
      "cell_type": "code",
      "execution_count": 73,
      "metadata": {
        "colab": {
          "base_uri": "https://localhost:8080/"
        },
        "id": "APN_HIak0JnX",
        "outputId": "0ed1afea-4d91-451b-d6a2-246ca81144d3"
      },
      "outputs": [
        {
          "name": "stdout",
          "output_type": "stream",
          "text": [
            "['virtual', 'coins', ',', 'real', 'resources', 'u.s.', 'advances', 'military', 'plans', 'for', 'north korea', 'mr. trump', 'and', 'the', '‘', 'very', 'bad', 'judge', '’', 'to', 'erase', 'dissent', ',', 'china', 'bans', 'pooh', 'bear', 'and', '‘', 'n', '’', 'loans', 'flowed', 'to', 'kushner', 'cos.', 'after', 'visits', 'to', 'the white', 'house', 'china', 'envoy', 'intends', 'to', 'ease', 'trade', 'tensions', 'president', 'trump ’']\n"
          ]
        }
      ],
      "source": [
        "#Entrenamos al modelo para que detecte phrases en los titulares\n",
        "\n",
        "phrases = Phrases(text_stream, min_count=1, threshold=2, delimiter=' ')\n",
        "\n",
        "#Obtenemos los phrases del documento que contiene todos los titulares\n",
        "\n",
        "doc_tokens = word_tokenize(doc.lower())\n",
        "text_phrases = phrases[doc_tokens]\n",
        "\n",
        "#Imprimimos los primeros 50 phrases\n",
        "print(text_phrases[:50])"
      ]
    },
    {
      "cell_type": "markdown",
      "metadata": {
        "id": "y5osmlSE0JnX"
      },
      "source": [
        "Una vez tenemos los <i>phrases</i> del documento, sacamos los signos de puntuación que puedan tener adheridos y nos quedamos con los que son buenos candidatos a términos, según el método <i>good_candidate</i>. Para comprobar si son buenos candidatos a término, primero tenemos que hacer su etiquetaje PoS."
      ]
    },
    {
      "cell_type": "code",
      "execution_count": 74,
      "metadata": {
        "colab": {
          "base_uri": "https://localhost:8080/"
        },
        "id": "g2dloRec0JnX",
        "outputId": "8b8db46e-2c6c-41a5-b31f-7f0aed8189ea"
      },
      "outputs": [
        {
          "name": "stdout",
          "output_type": "stream",
          "text": [
            "['virtual', 'coins', 'real', 'resources', 'u.s', 'advances', 'military', 'plans', 'north korea', 'mr. trump']\n"
          ]
        }
      ],
      "source": [
        "#Importar librería que procesa expresiones regulares\n",
        "import re\n",
        "\n",
        "#Sacamos signos de puntuación de los phrases que hay en los titulares\n",
        "\n",
        "text_phrases_stripped = [tp.strip('\".,;:-():!?-‘’ ') for tp in text_phrases]\n",
        "\n",
        "#Hacemos el etiquetaje de PoS de los phrases que hay en los titulares y lo guardamos en un diccionario (postag)\n",
        "\n",
        "postag = {}\n",
        "\n",
        "for tps in text_phrases_stripped:\n",
        "    postag[tps] = nltk.pos_tag(word_tokenize(tps))\n",
        "\n",
        "#Obtenemos los phrases que son términos, aplicando el método good_candidate y teniendo en cuenta\n",
        "#su etiquetaje PoS.\n",
        "\n",
        "document_terms = [tps for tps in text_phrases_stripped if good_candidate(tps,postag[tps]) == True]\n",
        "\n",
        "#Imprimimos 10 términos del documento\n",
        "print(document_terms[:10])"
      ]
    },
    {
      "cell_type": "markdown",
      "metadata": {
        "id": "-mx_-Gjg0JnY"
      },
      "source": [
        "Lematización de los términos según su etiquetaje PoS y unificación."
      ]
    },
    {
      "cell_type": "code",
      "execution_count": 75,
      "metadata": {
        "colab": {
          "base_uri": "https://localhost:8080/"
        },
        "id": "X9RgcZQy0JnY",
        "outputId": "df03a8bd-1f5d-4a99-9bf2-398070043554"
      },
      "outputs": [
        {
          "name": "stdout",
          "output_type": "stream",
          "text": [
            "['virtual', 'coin', 'real', 'resource', 'u.s', 'advance', 'military', 'plan', 'north korea', 'trump']\n"
          ]
        }
      ],
      "source": [
        "#Lematizamos los términos según su etiquetaje PoS\n",
        "\n",
        "lemmas = [wnlemmatize(tm,postag[tm]) for tm in document_terms]\n",
        "\n",
        "#...y los unificamos\n",
        "\n",
        "lemmas_unified = [unify(l) for l in lemmas if l != \"\"]\n",
        "\n",
        "print(lemmas_unified[:10])"
      ]
    },
    {
      "cell_type": "markdown",
      "metadata": {
        "id": "6ug09-4k0JnY"
      },
      "source": [
        "Creación del <i>word cloud</i>."
      ]
    },
    {
      "cell_type": "code",
      "execution_count": 77,
      "metadata": {
        "colab": {
          "base_uri": "https://localhost:8080/",
          "height": 285
        },
        "id": "FBefDAMP0JnY",
        "outputId": "b4fab806-8313-492e-a54f-faddadfd9aa5"
      },
      "outputs": [
        {
          "data": {
            "image/png": "[encoded data removed]",
            "text/plain": [
              "<Figure size 640x480 with 1 Axes>"
            ]
          },
          "metadata": {},
          "output_type": "display_data"
        }
      ],
      "source": [
        "#Para visualizar los términos en un wordcloud, utilizamos la librería de Python wordcloud\n",
        "#Para instalarlo, se debe escribir \"sudo pip install wordcloud\"\n",
        "\n",
        "##Los componentes de un término multipalabra se unen con el símbolo '_'\n",
        "\n",
        "lemmas2display = \" \".join([lu.replace(' ','_') for lu in lemmas_unified])\n",
        "\n",
        "#La librería realiza el wordcloud a partir de un string. Por ello, es necesario concatenar los términos\n",
        "#obtenidos en un único string (lemmas2display)\n",
        "\n",
        "import matplotlib.pyplot as plt\n",
        "from wordcloud import WordCloud\n",
        "\n",
        "wordcloud_sring = \" \".join(lemmas_unified)\n",
        "wordcloud = WordCloud(background_color='white',max_font_size=90).generate(lemmas2display)\n",
        "plt.figure()\n",
        "plt.imshow(wordcloud, interpolation=\"bilinear\")\n",
        "plt.axis(\"off\")\n",
        "plt.show()"
      ]
    },
    {
      "cell_type": "markdown",
      "metadata": {
        "id": "J2VFzRiS0JnY"
      },
      "source": [
        "## 3.4 Vectorización de documentos ##"
      ]
    },
    {
      "cell_type": "markdown",
      "metadata": {
        "id": "aaALHI8W0JnY"
      },
      "source": [
        "Ejemplificaremos la vectorización de documentos vectorizando los titulares del <i>New York Times</i> con un vectorizador TfIdf."
      ]
    },
    {
      "cell_type": "markdown",
      "metadata": {
        "id": "L-7XAgB20JnZ"
      },
      "source": [
        "### 3.4.1. Ejemplo: vectorización de tres titulares del New York Times ###"
      ]
    },
    {
      "cell_type": "code",
      "execution_count": 78,
      "metadata": {
        "id": "jnOMipad0JnZ"
      },
      "outputs": [],
      "source": [
        "headlines = [\"Trump proclaims tariffs on steel, and a tariff on aluminium and stocks sag in reply\",\n",
        "\"Trump embraces a trade war, which could undermine growth\"]"
      ]
    },
    {
      "cell_type": "code",
      "execution_count": 82,
      "metadata": {
        "id": "P-F8ieMZ0JnZ"
      },
      "outputs": [],
      "source": [
        "#1. Importar métodos de procesamiento de lenguaje natural\n",
        "#Importar la librería NLTK\n",
        "import nltk\n",
        "#Importar tokenizador del paquete NLTK\n",
        "from nltk import word_tokenize\n",
        "#Importar los métodos de la librería NLTK que lematizan según Wordnet\n",
        "from nltk.stem.wordnet import WordNetLemmatizer\n",
        "\n",
        "#2. Importar la librería con los métodos para realizar la vectorización\n",
        "from sklearn.feature_extraction.text import TfidfVectorizer"
      ]
    },
    {
      "cell_type": "code",
      "execution_count": 83,
      "metadata": {
        "id": "i9En_0cT0JnZ"
      },
      "outputs": [],
      "source": [
        "#Definición del vectorizador y su analyzer\n",
        "\n",
        "#El método get_n_and_cn_lemmatized es el método con el que el analyzer del vectorizador encuentra los\n",
        "#términos del texto. Esos términos tienen el pattern N y N+N\n",
        "\n",
        "def get_n_and_cn_lemmatized(text):\n",
        "    tokens = [w for w in word_tokenize(text.lower())]\n",
        "    #Etiquetaje PoS de los tokens\n",
        "    tagged_tokens = nltk.pos_tag(tokens)\n",
        "    #Se obtienen los términos con el pattern N y N+N (véase 2.8)\n",
        "    nps = get_n_and_cn(tagged_tokens)\n",
        "    #Se lematizan los términos con el pattern N y N+N si tienen más de un carácter. La lematización se hace\n",
        "    #según el lematizador de Wordnet\n",
        "    lem_nps = [wnlemmatize(np,nltk.pos_tag([np])) for np in nps if len(np) > 1]\n",
        "    return lem_nps\n",
        "\n",
        "#Definición del vectorizador Tf.idf\n",
        "cv = TfidfVectorizer(\n",
        "    analyzer= get_n_and_cn_lemmatized\n",
        " )"
      ]
    },
    {
      "cell_type": "code",
      "execution_count": 84,
      "metadata": {
        "colab": {
          "base_uri": "https://localhost:8080/"
        },
        "id": "gez5h0Hz0JnZ",
        "outputId": "f74965ec-59d5-4cfb-af42-64cb76cf21f5",
        "scrolled": true
      },
      "outputs": [
        {
          "name": "stdout",
          "output_type": "stream",
          "text": [
            "VECTORIZACION TITULAR 0 Y TITULAR 1 \n",
            "   (0, 3)\t0.32433627313894553\n",
            "  (0, 5)\t0.32433627313894553\n",
            "  (0, 0)\t0.32433627313894553\n",
            "  (0, 4)\t0.32433627313894553\n",
            "  (0, 6)\t0.6486725462778911\n",
            "  (0, 2)\t0.32433627313894553\n",
            "  (0, 9)\t0.23076792961123066\n",
            "  (1, 8)\t0.47107781233161794\n",
            "  (1, 1)\t0.47107781233161794\n",
            "  (1, 10)\t0.47107781233161794\n",
            "  (1, 7)\t0.47107781233161794\n",
            "  (1, 9)\t0.33517574332792605\n",
            "FEATURE NAMES \n",
            " ['aluminium' 'growth' 'proclaims' 'reply' 'steel' 'stock' 'tariff' 'trade'\n",
            " 'trade_war' 'trump' 'war']\n",
            "ARRAYS TITULARES 0 Y 1 \n",
            " [[0.32433627 0.         0.32433627 0.32433627 0.32433627 0.32433627\n",
            "  0.64867255 0.         0.         0.23076793 0.        ]\n",
            " [0.         0.47107781 0.         0.         0.         0.\n",
            "  0.         0.47107781 0.47107781 0.33517574 0.47107781]]\n"
          ]
        }
      ],
      "source": [
        "#Vectorización de los titulares\n",
        "vectorizer = TfidfVectorizer()\n",
        "cv_fit= cv.fit_transform(headlines)\n",
        "print(\"VECTORIZACION TITULAR 0 Y TITULAR 1\",'\\n',cv_fit)\n",
        "\n",
        "#Obtenemos los feature names\n",
        "print (\"FEATURE NAMES\",'\\n', cv.get_feature_names_out())\n",
        "\n",
        "#Representamos la vectorización de los titulares en forma de arrays\n",
        "print(\"ARRAYS TITULARES 0 Y 1\", '\\n', cv_fit.toarray())"
      ]
    },
    {
      "cell_type": "markdown",
      "metadata": {
        "id": "TEXttG990JnZ"
      },
      "source": [
        "### 3.4.2 Vectorización de los  titulares del NYT por su pertenencia a un tipo de documento ###"
      ]
    },
    {
      "cell_type": "markdown",
      "metadata": {
        "id": "fi-dL6mm0JnZ"
      },
      "source": [
        "Creamos una colección de dos documentos. El primer documento contiene los términos de los titulares de tipo TOP y el segundo contiene los términos de los titulares de tipo NONTOP."
      ]
    },
    {
      "cell_type": "code",
      "execution_count": 85,
      "metadata": {
        "id": "fwMeHq7X0Jna"
      },
      "outputs": [],
      "source": [
        "#Preparación del corpus\n",
        "\n",
        "#El fichero del corpus tiene el formato .csv. El fichero contiene los titulares y otros datos organizados en\n",
        "#forma de tabla. La columna ['Tag'] indica, con una etiqueta, si el titular es TOP o NO TOP (NONTOP).\n",
        "#Por ello, utilizamos la librería Pandas para crear dos dataframes:\n",
        "#df1: dataframe de los titulares con la etiqueta TOP\n",
        "#df2: dataframe de los titulares con la etiqueta NONTOP\n",
        "\n",
        "import pandas as pd\n",
        "\n",
        "##Transformamos el contenido del fichero en un dataframe df\n",
        "df = pd.read_csv('NYT-Comment-Headlines.csv', sep='\\t')\n",
        "\n",
        "#A partir del dataframe df creamos los dataframes df1 y df2 según el valor de 'Tag' de los titulares\n",
        "df = df.set_index('Tag')\n",
        "df1 = df.loc['TOP']\n",
        "df2 = df.loc['NONTOP']\n",
        "\n",
        "#Ponemos los titulares TOP, que están en la columna 'Headline' de df1, en una lista\n",
        "top_headlines = df1['Headline'].tolist()\n",
        "#Ponemos los titulares NO TOP, que están en la columna 'Headline' de df2, en una lista\n",
        "nontop_headlines = df2['Headline'].tolist()\n",
        "\n",
        "#Convertimos los titulares TOP en un documento\n",
        "terms_top_doc = \" \".join(top_headlines)\n",
        "#Convertimos los titulares NO TOP en un documento\n",
        "terms_nontop_doc = \" \".join(nontop_headlines)\n",
        "\n",
        "#Creamos la colección de documentos\n",
        "docs_col = [terms_top_doc, terms_nontop_doc]"
      ]
    },
    {
      "cell_type": "markdown",
      "metadata": {
        "id": "PompCVxQ0Jna"
      },
      "source": [
        "Transformamos cada documento de la colección en una lista con sus términos lematizados y unificados."
      ]
    },
    {
      "cell_type": "code",
      "execution_count": 86,
      "metadata": {
        "id": "u-GXzwtF0Jna"
      },
      "outputs": [],
      "source": [
        "import re\n",
        "\n",
        "def transform_doc(doc):\n",
        "    #Obtenemos los phrases según el modelo de detección de phrases que ha aprendido\n",
        "    doc_phrases = phrases[word_tokenize(doc.lower())]\n",
        "    #Quitamos los signos de puntuación de los phrases\n",
        "    text_phrases_stripped = [dp.strip('\".,;:-():!?-‘’ ') for dp in doc_phrases if re.match(\"^[a-z]+.*\", dp) ]\n",
        "    #Hacemos etiquetaje de PoS de los phrases y lo guardamos en un diccionario (postag)\n",
        "    postag = {}\n",
        "    for tps in text_phrases_stripped:\n",
        "        postag[tps] = nltk.pos_tag(word_tokenize(tps))\n",
        "    #Obtenemos los phrases que son términos, aplicando el método good_candidate y teniendo en cuenta\n",
        "    #su etiquetaje PoS.\n",
        "    document_terms = [tps for tps in text_phrases_stripped if good_candidate(tps,postag[tps]) == True]\n",
        "    #Lematizamos los términos con el lematizador de Wordnet\n",
        "    terms_lemmatized = [wnlemmatize(dt,postag[dt]) for dt in document_terms]\n",
        "    #Unificamos los términos\n",
        "    terms_lemmatized_and_unified = [unify(tl) for tl in terms_lemmatized ]\n",
        "    #Concatenamos los constituyentes de un término multipalabra con '_'\n",
        "    terms_lemmatized_and_unified2display = [tlu.replace(' ','_') for tlu in terms_lemmatized_and_unified ]\n",
        "    return \" \".join(terms_lemmatized_and_unified2display)\n",
        "\n",
        "\n",
        "transf_col = [transform_doc(d) for d in docs_col]"
      ]
    },
    {
      "cell_type": "markdown",
      "metadata": {
        "id": "n2IQDKtI0Jna"
      },
      "source": [
        "Vectorización de los titulares TOP y NO TOP."
      ]
    },
    {
      "cell_type": "code",
      "execution_count": 87,
      "metadata": {
        "id": "d7uRIIdH0Jna"
      },
      "outputs": [],
      "source": [
        "#Importar la librería con los métodos para hacer la vectorización\n",
        "from sklearn.feature_extraction.text import TfidfVectorizer\n",
        "\n",
        "#Definimos el vectorizador. Su analyzer busca términos de tipo 'word'. Este tipo incluye los términos monopalabra\n",
        "#y los términos multipalabra con un formato como 'trade_war'\n",
        "\n",
        "hv = TfidfVectorizer(\n",
        "    analyzer= 'word',\n",
        "    min_df = 1.0 #Proporción de documentos en los que aparece el término (1.0 es la opción por defecto y\n",
        "                 #significa en todos los documentos).\n",
        " )\n",
        "\n",
        "hv_fit = hv.fit_transform(transf_col)"
      ]
    },
    {
      "cell_type": "markdown",
      "metadata": {
        "id": "2eZpxbul0Jna"
      },
      "source": [
        "Los resultados se visualizarán en una tabla con dos columnas. La primera columna contendrá los términos (<i>feature names</i>) de un documento ordenados de mayor a menor por su valor de tf.idf. La segunda columna contendrá el valor de Tf.idf del <i>feature name</i>.\n",
        "\n",
        "Imaginemos que queremos ver los resultados de los términos de los titulares TOP. En primer lugar, convertiremos la matriz de vectorización en un <i>array</i>, y elegiremos el primer elemento del <i>array</i> (la primera fila de la matriz), porque los titulares TOP son los primeros de la colección."
      ]
    },
    {
      "cell_type": "code",
      "execution_count": 88,
      "metadata": {
        "colab": {
          "base_uri": "https://localhost:8080/"
        },
        "id": "bhHGcdmG0Jna",
        "outputId": "e7e0e0a5-70b6-4204-da11-48696322b788"
      },
      "outputs": [
        {
          "name": "stdout",
          "output_type": "stream",
          "text": [
            "\n",
            "Valores de TfIdf de los términos en los titulares TOP\n",
            "\n",
            "          Term     TfIdf\n",
            "0        trump  0.837593\n",
            "1    president  0.123176\n",
            "2       school  0.098540\n",
            "3       tariff  0.098540\n",
            "4          say  0.086223\n",
            "..         ...       ...\n",
            "465      write  0.012318\n",
            "466      wrong  0.012318\n",
            "467       year  0.012318\n",
            "468        yes  0.012318\n",
            "469      young  0.012318\n",
            "\n",
            "[470 rows x 2 columns]\n"
          ]
        }
      ],
      "source": [
        "#Tomamos el array correspondiente a los titulares top\n",
        "ta = hv_fit.toarray()[0]\n",
        "\n",
        "#La relación feature name-valor de tf.idf se expresa en forma de tupla. El primer elemento de la tupla es el\n",
        "#feature name y el segundo elemento es su valor de tf.idf en el documento N, en este caso el documento 0.\n",
        "#Estas tuplas se van poniendo en una lista (tfidf_tuples) para que luego puedan ordenadarse de mayor a menor valor\n",
        "\n",
        "tfidf_tuples = []\n",
        "\n",
        "feature_names = hv.get_feature_names_out()\n",
        "\n",
        "for i in range(0, len(feature_names)):\n",
        "    tfidf_tuples.append((feature_names[i], ta[i]))\n",
        "\n",
        "#Se ordenan las tuplas\n",
        "sorted_tuples = sorted(tfidf_tuples, key=lambda tup: tup[1], reverse=True)\n",
        "\n",
        "labels = ['Term', 'TfIdf']\n",
        "\n",
        "#Se crea un dataframe a partir del cual se construirá la tabla\n",
        "df3 = pd.DataFrame.from_records(sorted_tuples, columns=labels)\n",
        "\n",
        "#Construcción y visualización de la tabla\n",
        "print (\"\")\n",
        "print (\"Valores de TfIdf de los términos en los titulares TOP\")\n",
        "print (\"\")\n",
        "\n",
        "print (df3)"
      ]
    },
    {
      "cell_type": "markdown",
      "metadata": {
        "id": "jpK_WYYW0Jnb"
      },
      "source": [
        "## 3.5 Representación de las distancias semánticas con Word2Vec ##"
      ]
    },
    {
      "cell_type": "markdown",
      "metadata": {
        "id": "uDvmB14O0Jnb"
      },
      "source": [
        "En primer lugar, entrenaremos un modelo Word2Vec de los titulares TOP. Para crear el modelo, cada titular TOP se toma como una oración (<i>sentence</i>) que hay que transformar en una lista de <i>phrases</i> lematizados y unificados."
      ]
    },
    {
      "cell_type": "code",
      "execution_count": 89,
      "metadata": {
        "colab": {
          "base_uri": "https://localhost:8080/"
        },
        "id": "qDjc83Th0Jnb",
        "outputId": "5e6b0c2a-84e0-42a3-8003-1d5971c2641b"
      },
      "outputs": [
        {
          "name": "stdout",
          "output_type": "stream",
          "text": [
            "[['trump', 'and', 'the', 'very', 'bad', 'judge'], ['loan', 'flow', 'to', 'kushner', 'co', 'after', 'visit', 'to', 'the white', 'house'], ['goodbye', 'pay-as-you-wish'], ['can', 'venezuela', 'be', 'save'], ['say', 'a', 'prayer', 'i don', 'believe', 'in']]\n"
          ]
        }
      ],
      "source": [
        "sentence_stream = df1['Headline'].tolist() # Los textos del dataframe de titulares TOP\n",
        "\n",
        "postag = {}\n",
        "\n",
        "def transform_sentence(sentence):\n",
        "    #Obtenemos los phrases según el modelo de detección de phrases que ha aprendido\n",
        "    sentence_phrases = phrases[word_tokenize(sentence.lower())]\n",
        "    #Quitamos los signos de puntuación de los phrases\n",
        "    phrases_stripped = [st.strip('\".,;:-():!?-‘’ ') for st in sentence_phrases if re.match(\"^[a-z]+.*\", st)]\n",
        "    #Hacemos etiquetaje de PoS de los phrases y lo guardamos en un diccionario (postag)\n",
        "    for ps in phrases_stripped:\n",
        "        postag[ps] = nltk.pos_tag(word_tokenize(ps))\n",
        "    #Lematizamos los phrases con el lematizador de Wordnet\n",
        "    phrases_lemmatized = [wnlemmatize(ps,postag[ps]) for ps in phrases_stripped]\n",
        "    #Unificamos los phrases\n",
        "    phrases_lemmatized_and_unified = [unify(pl) for pl in phrases_lemmatized ]\n",
        "    return phrases_lemmatized_and_unified\n",
        "\n",
        "\n",
        "transformed_sentences = [transform_sentence(ss) for ss in sentence_stream ]\n",
        "\n",
        "print(transformed_sentences[:5])"
      ]
    },
    {
      "cell_type": "markdown",
      "metadata": {
        "id": "p16UcRXL0Jnb"
      },
      "source": [
        "Crear el modelo Word2Vec."
      ]
    },
    {
      "cell_type": "code",
      "execution_count": 90,
      "metadata": {
        "colab": {
          "base_uri": "https://localhost:8080/"
        },
        "id": "E_YKzR-Z0Jnb",
        "outputId": "566b1cc0-2dc3-4f4e-a9a0-5ac819fc9df0"
      },
      "outputs": [
        {
          "data": {
            "text/plain": [
              "(5308, 25040)"
            ]
          },
          "execution_count": 90,
          "metadata": {},
          "output_type": "execute_result"
        }
      ],
      "source": [
        "w2vnyt = gensim.models.Word2Vec(\n",
        "        transformed_sentences,\n",
        "        vector_size=150, # Tamaño de las dimensiones del vector\n",
        "        window=10, #context window (10 palabras a la izquierda y 10 palabras a la derecha)\n",
        "        min_count= 3, #Frecuencia mínima\n",
        "        workers= 1,\n",
        "        seed=1 # Valor de inicio predefinido para conservar la coherencia\n",
        ")\n",
        "#... y lo entrenamos con los documentos transformados\n",
        "w2vnyt.train(transformed_sentences, total_examples=len(transformed_sentences), epochs=10)"
      ]
    },
    {
      "cell_type": "code",
      "execution_count": 91,
      "metadata": {
        "colab": {
          "base_uri": "https://localhost:8080/"
        },
        "id": "2-M1SjGF0Jnb",
        "outputId": "f531d307-3d45-43f3-b590-3ac292002f52"
      },
      "outputs": [
        {
          "name": "stdout",
          "output_type": "stream",
          "text": [
            "['trump', 'president', 'u.s', 'tariff', 'school', 'say', 'trade', 'trade war', 'get', 'facebook', 'new', 'team', 'picture', 'state', 'aide', 'war', 'america', 'gun', 'house', 'win', 'go', 'bolton', 'good', 'talk', 'lawyer', 'chief', 'target', 'end', 'face', 'democrat', 'left', 'plan', 'security', 'voter', 'sue', 'race', 'control', 'show', 'problem', 'age', 'college', 'job', 'g.o.p', 'retreat', 'next', 'fear', 'grow', 'kushner', 'mueller', 'lead', 'teacher', 'take', 'stop', 'firm', 'play', 'power', 'data', 'chaos', 'make', 'c.e.o', 'join', 'point', 'ask', 'gun control', 'sign', 'knew', 'woman', 'porn star', 'debate', 'silence', 'russia', 'fire', 'saudi', 'prison', 'deputy', 'abuse', 'charge', 'sex', 'hold', 'void', 'class', 'call', 'man']\n"
          ]
        }
      ],
      "source": [
        "#Del vocabulario de phrases del modelo Word2Vec obtenemos los que son términos\n",
        "\n",
        "phrases_vocabulary = list(w2vnyt.wv.index_to_key)\n",
        "\n",
        "def phrase_is_term(phrase):\n",
        "    test = False\n",
        "    if phrase not in postag:\n",
        "        pos = nltk.pos_tag(word_tokenize(phrase))\n",
        "    else:\n",
        "        pos = postag[phrase]\n",
        "    if good_candidate(phrase,pos):\n",
        "        test = True\n",
        "    return test\n",
        "\n",
        "terms_vocabulary = [pv for pv in phrases_vocabulary if phrase_is_term(pv) == True]\n",
        "\n",
        "print(terms_vocabulary)"
      ]
    },
    {
      "cell_type": "code",
      "execution_count": 93,
      "metadata": {
        "colab": {
          "base_uri": "https://localhost:8080/",
          "height": 637
        },
        "id": "RkdITVvb0Jnc",
        "outputId": "166e2cb6-6052-4254-cf4d-fdfa56028c94"
      },
      "outputs": [
        {
          "data": {
            "image/png": "[encoded data removed]",
            "text/plain": [
              "<Figure size 1500x1000 with 1 Axes>"
            ]
          },
          "metadata": {},
          "output_type": "display_data"
        }
      ],
      "source": [
        "import matplotlib.pyplot as plt\n",
        "import seaborn as sns\n",
        "from sklearn.manifold import TSNE\n",
        "\n",
        "#Visualizamos los word embeddings mediante TSNE\n",
        "\n",
        "X = w2vnyt.wv[terms_vocabulary]\n",
        "tsne = TSNE(n_components=2, random_state=1)\n",
        "X_tsne = tsne.fit_transform(X)\n",
        "df = pd.DataFrame(X_tsne, index=terms_vocabulary, columns=['x', 'y'])\n",
        "fig = plt.figure(figsize=(15,10))\n",
        "ax = fig.add_subplot(1, 1, 1)\n",
        "ax.scatter(df['x'], df['y'])\n",
        "for word, pos in df.iterrows():\n",
        "    ax.annotate(word, pos)\n",
        "plt.show()"
      ]
    },
    {
      "cell_type": "markdown",
      "metadata": {
        "id": "SKNJ9MeV0Jnc"
      },
      "source": [
        "Buscamos las compañías de Trump (términos más próximos a Trump según Word2Vec)."
      ]
    },
    {
      "cell_type": "code",
      "execution_count": 94,
      "metadata": {
        "colab": {
          "base_uri": "https://localhost:8080/"
        },
        "id": "bJBF_nyA0Jnc",
        "outputId": "0c9b6981-4c16-420a-91b4-f4333f51ab85"
      },
      "outputs": [
        {
          "name": "stdout",
          "output_type": "stream",
          "text": [
            "[('join', 0.37176728), ('lead', 0.3581282), ('lawyer', 0.34885314), ('facebook', 0.34091717), ('gun', 0.33998045), ('ask', 0.3269344), ('america', 0.3114568), ('end', 0.30427408), ('deputy', 0.29629624), ('charge', 0.28474557), ('democrat', 0.27302057), ('retreat', 0.26762867), ('c.e.o', 0.25919217), ('man', 0.2554764), ('race', 0.25112304), ('plan', 0.24429172), ('picture', 0.23385921), ('house', 0.23240596), ('grow', 0.22964005), ('fire', 0.22822523), ('prison', 0.22497785), ('school', 0.22377375), ('chief', 0.22346461), ('u.s', 0.21520615), ('debate', 0.2143082), ('say', 0.21303993), ('show', 0.2127564), ('sex', 0.21201667), ('kushner', 0.20882319), ('woman', 0.2080139), ('target', 0.2060909), ('voter', 0.1994239), ('team', 0.19898012), ('win', 0.19619006), ('call', 0.19320253), ('trade', 0.18499261), ('left', 0.18260837), ('college', 0.17656964), ('abuse', 0.17459473), ('sue', 0.17288387), ('firm', 0.1663371), ('security', 0.16510256), ('face', 0.15831049), ('get', 0.1519216), ('bolton', 0.15089302), ('make', 0.14943463), ('take', 0.1455354), ('war', 0.1435557), ('tariff', 0.13932179), ('void', 0.13909832), ('state', 0.12972458), ('sign', 0.12760362), ('control', 0.12760128), ('aide', 0.12583588), ('class', 0.11725018), ('porn star', 0.11452302), ('good', 0.11409426), ('go', 0.112302035), ('talk', 0.107026555), ('hold', 0.10608888), ('russia', 0.10332778), ('president', 0.09916084), ('age', 0.09871879), ('gun control', 0.0970769), ('problem', 0.08050205), ('next', 0.074658014), ('g.o.p', 0.07086877), ('point', 0.0618937), ('silence', 0.061807483), ('data', 0.060001463), ('teacher', 0.04773085), ('saudi', 0.03749094), ('chaos', 0.03706619), ('mueller', 0.034869477), ('stop', 0.0315151), ('job', 0.01632928), ('fear', 0.013083879), ('trade war', 0.0028230622), ('power', 0.0020364374)]\n",
            "\n",
            "Distancia respecto al término trump\n",
            "\n",
            "         Term  Distance\n",
            "0        join  0.371767\n",
            "1        lead  0.358128\n",
            "2      lawyer  0.348853\n",
            "3    facebook  0.340917\n",
            "4         gun  0.339980\n",
            "..        ...       ...\n",
            "74       stop  0.031515\n",
            "75        job  0.016329\n",
            "76       fear  0.013084\n",
            "77  trade war  0.002823\n",
            "78      power  0.002036\n",
            "\n",
            "[79 rows x 2 columns]\n"
          ]
        }
      ],
      "source": [
        "term = 'trump'\n",
        "\n",
        "#Considerando los términos como feature names, la relación feature name-distancia se expresa en forma de tupla.\n",
        "#El primer elemento de la tupla es el feature name y el segundo elemento es su valor de distancia a un término\n",
        "#de referencia (e.g. Trump) según #Word2Vec. Estas tuplas se van poniendo en una lista (w2v_tuples) para que luego\n",
        "#puedan ser ordenadas de más cercanas a menos cercanas\n",
        "\n",
        "w2v_tuples = []\n",
        "\n",
        "feature_names = terms_vocabulary\n",
        "\n",
        "#Para cada feature name, calculamos su distancia respecto al término de referencia con el método model.similarity.\n",
        "#Si la distancia es superior a 0, la tupla se pone en la lista de tuplas\n",
        "for i in range(0, len(feature_names)):\n",
        "    if feature_names[i] != term and w2vnyt.wv.similarity(term, feature_names[i]) > 0:\n",
        "        w2v_tuples.append((feature_names[i], w2vnyt.wv.similarity(term, feature_names[i])))\n",
        "\n",
        "#Se ordenan las tuplas\n",
        "w2v_sorted_tuples = sorted(w2v_tuples, key=lambda tup: tup[1], reverse=True)\n",
        "\n",
        "print(w2v_sorted_tuples)\n",
        "\n",
        "labels = ['Term', 'Distance']\n",
        "\n",
        "#Se crea dataframe a partir del cual se construirá la tabla\n",
        "df4 = pd.DataFrame.from_records(w2v_sorted_tuples, columns=labels)\n",
        "\n",
        "#Construcción y visualización de la tabla\n",
        "print (\"\")\n",
        "print (\"Distancia respecto al término\", term)\n",
        "print (\"\")\n",
        "\n",
        "print (df4)"
      ]
    },
    {
      "cell_type": "markdown",
      "metadata": {
        "id": "Aez64ioB0Jnc"
      },
      "source": [
        "## 4. Detección de temas ##"
      ]
    },
    {
      "cell_type": "markdown",
      "metadata": {
        "id": "kFTgl_Zo0Jnc"
      },
      "source": [
        "Primero abordaremos la detección de temas comprobando si los términos de los titulares TOP pueden agruparse por similitud semántica según <b>Wordnet</b>."
      ]
    },
    {
      "cell_type": "markdown",
      "metadata": {
        "id": "r6S3xe8b0Jnc"
      },
      "source": [
        "### 4.1 Cálculo de similitud semántica según Wordnet ###"
      ]
    },
    {
      "cell_type": "code",
      "execution_count": 95,
      "metadata": {
        "colab": {
          "base_uri": "https://localhost:8080/"
        },
        "id": "yJCuVR2-0Jnc",
        "outputId": "30bb379b-e532-4ad8-e381-20c133833dff"
      },
      "outputs": [
        {
          "name": "stdout",
          "output_type": "stream",
          "text": [
            "LA DISTANCIA SEMÁNTICA ENTRE 'DOG' Y 'CAT' ES  0.8571428571428571\n",
            "LA DISTANCIA SEMÁNTICA ENTRE 'UNITED STATES' Y 'SPAIN' ES  0.8\n"
          ]
        }
      ],
      "source": [
        "#Ejemplos de cálculo de similitud semántica según Wordnet\n",
        "\n",
        "from nltk.corpus import wordnet as wn\n",
        "\n",
        "#Establecemos el synset más frecuente de las palabras 'dog', 'cat', 'united states' y 'white house'\n",
        "#con nombre como su PoS. Serán los synsets de referencia\n",
        "dog = wn.synset('dog.n.01')\n",
        "cat = wn.synset('cat.n.01')\n",
        "united_states = wn.synset('united_states.n.01')\n",
        "spain = wn.synset('spain.n.01')\n",
        "\n",
        "print(\"LA DISTANCIA SEMÁNTICA ENTRE 'DOG' Y 'CAT' ES \", cat.wup_similarity(dog)) #Wu and Palmer score\n",
        "\n",
        "print(\"LA DISTANCIA SEMÁNTICA ENTRE 'UNITED STATES' Y 'SPAIN' ES \", united_states.wup_similarity(spain))"
      ]
    },
    {
      "cell_type": "code",
      "execution_count": 96,
      "metadata": {
        "colab": {
          "base_uri": "https://localhost:8080/"
        },
        "id": "pxMaxrMX0Jnc",
        "outputId": "ccbece0c-0b12-477f-cbb3-a91fb6547f7c"
      },
      "outputs": [
        {
          "name": "stdout",
          "output_type": "stream",
          "text": [
            "SYNSETS DE LOS TÉRMINOS [[Synset('attack.n.01'), Synset('attack.n.02'), Synset('fire.n.09'), Synset('approach.n.01'), Synset('attack.n.05'), Synset('attack.n.06'), Synset('attack.n.07'), Synset('attack.n.08'), Synset('attack.n.09')], [Synset('fire.n.01'), Synset('fire.n.02'), Synset('fire.n.03'), Synset('fire.n.04'), Synset('fire.n.05'), Synset('ardor.n.03'), Synset('fire.n.07'), Synset('fire.n.08'), Synset('fire.n.09')]]\n",
            "VOCABULARIO DE SYNSETS [Synset('attack.n.01'), Synset('attack.n.02'), Synset('fire.n.09'), Synset('approach.n.01'), Synset('attack.n.05'), Synset('attack.n.06'), Synset('attack.n.07'), Synset('attack.n.08'), Synset('attack.n.09'), Synset('fire.n.01'), Synset('fire.n.02'), Synset('fire.n.03'), Synset('fire.n.04'), Synset('fire.n.05'), Synset('ardor.n.03'), Synset('fire.n.07'), Synset('fire.n.08'), Synset('fire.n.09')]\n"
          ]
        }
      ],
      "source": [
        "from nltk.corpus import wordnet as wn\n",
        "\n",
        "#Dados dos términos, queremos comprobar si tienen sentidos (synsets) parecidos\n",
        "\n",
        "terms = ['attack', 'fire']\n",
        "\n",
        "#Obtenemos el vocabulario de synsets de los términos\n",
        "\n",
        "term_synsets = [wn.synsets(t,'n') for t in terms] #synsets de los dos términos cuando son un nombre\n",
        "\n",
        "print(\"SYNSETS DE LOS TÉRMINOS\", term_synsets)\n",
        "\n",
        "#Ponemos todos los synsets de los dos términos en una sola lista\n",
        "\n",
        "import itertools\n",
        "\n",
        "vocabulary_synsets = list(itertools.chain.from_iterable(term_synsets))\n",
        "\n",
        "print(\"VOCABULARIO DE SYNSETS\",vocabulary_synsets)\n"
      ]
    },
    {
      "cell_type": "code",
      "execution_count": 97,
      "metadata": {
        "colab": {
          "base_uri": "https://localhost:8080/"
        },
        "id": "QMEpd1bD0Jnd",
        "outputId": "dda1df88-4db2-4c0c-d475-42713e01dfd4"
      },
      "outputs": [
        {
          "name": "stdout",
          "output_type": "stream",
          "text": [
            "VECTORES DE SYNSET [[1.0, 0.75, 0.26666666666666666, 0.6666666666666666, 0.6666666666666666, 0.5555555555555556, 0.5, 0.15384615384615385, 0.26666666666666666, 0.5714285714285714, 0.9411764705882353, 0.11764705882352941, 0.10526315789473684, 0.26666666666666666, 0.26666666666666666, 0.14285714285714285, 0.47058823529411764, 0.26666666666666666], [0.75, 1.0, 0.26666666666666666, 0.6666666666666666, 0.6666666666666666, 0.5555555555555556, 0.5, 0.15384615384615385, 0.26666666666666666, 0.5714285714285714, 0.7058823529411765, 0.11764705882352941, 0.10526315789473684, 0.26666666666666666, 0.26666666666666666, 0.14285714285714285, 0.47058823529411764, 0.26666666666666666], [0.26666666666666666, 0.26666666666666666, 1.0, 0.23529411764705882, 0.23529411764705882, 0.23529411764705882, 0.26666666666666666, 0.16666666666666666, 0.8571428571428571, 0.3076923076923077, 0.25, 0.125, 0.1111111111111111, 0.2857142857142857, 0.2857142857142857, 0.15384615384615385, 0.25, 1.0], [0.6666666666666666, 0.6666666666666666, 0.23529411764705882, 1.0, 0.6, 0.5, 0.4444444444444444, 0.13333333333333333, 0.23529411764705882, 0.5, 0.631578947368421, 0.10526315789473684, 0.09523809523809523, 0.23529411764705882, 0.23529411764705882, 0.125, 0.42105263157894735, 0.23529411764705882], [0.6666666666666666, 0.6666666666666666, 0.23529411764705882, 0.6, 1.0, 0.5, 0.4444444444444444, 0.13333333333333333, 0.23529411764705882, 0.5, 0.631578947368421, 0.10526315789473684, 0.09523809523809523, 0.23529411764705882, 0.23529411764705882, 0.125, 0.42105263157894735, 0.23529411764705882], [0.5555555555555556, 0.5555555555555556, 0.23529411764705882, 0.5, 0.5, 1.0, 0.4444444444444444, 0.13333333333333333, 0.23529411764705882, 0.5, 0.5263157894736842, 0.10526315789473684, 0.09523809523809523, 0.23529411764705882, 0.23529411764705882, 0.125, 0.42105263157894735, 0.23529411764705882], [0.5, 0.5, 0.26666666666666666, 0.4444444444444444, 0.4444444444444444, 0.4444444444444444, 1.0, 0.15384615384615385, 0.26666666666666666, 0.7142857142857143, 0.47058823529411764, 0.11764705882352941, 0.10526315789473684, 0.26666666666666666, 0.26666666666666666, 0.14285714285714285, 0.8235294117647058, 0.26666666666666666], [0.15384615384615385, 0.15384615384615385, 0.16666666666666666, 0.13333333333333333, 0.13333333333333333, 0.13333333333333333, 0.15384615384615385, 1.0, 0.16666666666666666, 0.18181818181818182, 0.14285714285714285, 0.42857142857142855, 0.25, 0.36363636363636365, 0.16666666666666666, 0.36363636363636365, 0.14285714285714285, 0.16666666666666666], [0.26666666666666666, 0.26666666666666666, 0.8571428571428571, 0.23529411764705882, 0.23529411764705882, 0.23529411764705882, 0.26666666666666666, 0.16666666666666666, 1.0, 0.3076923076923077, 0.25, 0.125, 0.1111111111111111, 0.2857142857142857, 0.2857142857142857, 0.15384615384615385, 0.25, 0.8571428571428571], [0.5714285714285714, 0.5714285714285714, 0.3076923076923077, 0.5, 0.5, 0.5, 0.7142857142857143, 0.18181818181818182, 0.3076923076923077, 1.0, 0.5333333333333333, 0.13333333333333333, 0.11764705882352941, 0.3076923076923077, 0.3076923076923077, 0.16666666666666666, 0.6666666666666666, 0.3076923076923077], [0.9411764705882353, 0.7058823529411765, 0.25, 0.631578947368421, 0.631578947368421, 0.5263157894736842, 0.47058823529411764, 0.14285714285714285, 0.25, 0.5333333333333333, 1.0, 0.1111111111111111, 0.1, 0.25, 0.25, 0.13333333333333333, 0.4444444444444444, 0.25], [0.11764705882352941, 0.11764705882352941, 0.125, 0.10526315789473684, 0.10526315789473684, 0.10526315789473684, 0.11764705882352941, 0.42857142857142855, 0.125, 0.13333333333333333, 0.1111111111111111, 1.0, 0.2, 0.26666666666666666, 0.125, 0.26666666666666666, 0.1111111111111111, 0.125], [0.10526315789473684, 0.10526315789473684, 0.1111111111111111, 0.09523809523809523, 0.09523809523809523, 0.09523809523809523, 0.10526315789473684, 0.25, 0.1111111111111111, 0.11764705882352941, 0.1, 0.2, 1.0, 0.23529411764705882, 0.1111111111111111, 0.23529411764705882, 0.1, 0.1111111111111111], [0.26666666666666666, 0.26666666666666666, 0.2857142857142857, 0.23529411764705882, 0.23529411764705882, 0.23529411764705882, 0.26666666666666666, 0.36363636363636365, 0.2857142857142857, 0.3076923076923077, 0.25, 0.26666666666666666, 0.23529411764705882, 1.0, 0.2857142857142857, 0.5, 0.25, 0.2857142857142857], [0.26666666666666666, 0.26666666666666666, 0.2857142857142857, 0.23529411764705882, 0.23529411764705882, 0.23529411764705882, 0.26666666666666666, 0.16666666666666666, 0.2857142857142857, 0.3076923076923077, 0.25, 0.125, 0.1111111111111111, 0.2857142857142857, 1.0, 0.15384615384615385, 0.25, 0.2857142857142857], [0.14285714285714285, 0.14285714285714285, 0.15384615384615385, 0.125, 0.125, 0.125, 0.14285714285714285, 0.36363636363636365, 0.15384615384615385, 0.16666666666666666, 0.13333333333333333, 0.26666666666666666, 0.23529411764705882, 0.5, 0.15384615384615385, 1.0, 0.13333333333333333, 0.15384615384615385], [0.47058823529411764, 0.47058823529411764, 0.25, 0.42105263157894735, 0.42105263157894735, 0.42105263157894735, 0.8235294117647058, 0.14285714285714285, 0.25, 0.6666666666666666, 0.4444444444444444, 0.1111111111111111, 0.1, 0.25, 0.25, 0.13333333333333333, 1.0, 0.25], [0.26666666666666666, 0.26666666666666666, 1.0, 0.23529411764705882, 0.23529411764705882, 0.23529411764705882, 0.26666666666666666, 0.16666666666666666, 0.8571428571428571, 0.3076923076923077, 0.25, 0.125, 0.1111111111111111, 0.2857142857142857, 0.2857142857142857, 0.15384615384615385, 0.25, 1.0]]\n"
          ]
        }
      ],
      "source": [
        "#Para cada synset del vocabulario creamos un vector que representa la distancia semántica de este synset con cada\n",
        "#uno de los synsets restantes.\n",
        "#El vector se construye con la función create_vector que tiene como argumento un synset\n",
        "#La distancia semántica se obtiene con la función get_similarity, que tiene como argumentos los dos synsets sobre\n",
        "#los que se calcula la distancia\n",
        "\n",
        "def get_similarity(vs1,vs2):\n",
        "    d = 0.0\n",
        "    d1 = vs1.wup_similarity(vs2)  #Wu and Palmer score\n",
        "    if d1 != None:\n",
        "        d = d1\n",
        "    return d\n",
        "\n",
        "def create_vector(synset):\n",
        "    vector = [get_similarity(synset,vs) for vs in vocabulary_synsets]\n",
        "    return vector\n",
        "\n",
        "#Obtenemos los vectores de cada synset del vocabulario de synsets\n",
        "synset_vectors = [create_vector(v) for v in vocabulary_synsets]\n",
        "\n",
        "print(\"VECTORES DE SYNSET\", synset_vectors)"
      ]
    },
    {
      "cell_type": "code",
      "execution_count": 98,
      "metadata": {
        "colab": {
          "base_uri": "https://localhost:8080/"
        },
        "id": "KLtbn5x90Jnd",
        "outputId": "28b01df8-0d21-4ebf-ecf6-9c56a1a5b457"
      },
      "outputs": [
        {
          "name": "stdout",
          "output_type": "stream",
          "text": [
            "CLÚSTERES A LOS QUE PERTENECEN LOS SYNSETS [1, 1, 2, 1, 1, 1, 1, 0, 2, 1, 1, 0, 0, 0, 0, 0, 1, 2]\n"
          ]
        }
      ],
      "source": [
        "#Clustering con K-means\n",
        "\n",
        "from numpy import matrix, asarray\n",
        "from sklearn.cluster import KMeans\n",
        "\n",
        "#El conjunto de vectores de synsets se transforman en una matriz\n",
        "X = matrix(synset_vectors)\n",
        "#Se define el número de clústeres\n",
        "num_clusters = 3\n",
        "\n",
        "#Se define el modelo de clustering\n",
        "km = KMeans(n_clusters=num_clusters, n_init=10) # número inicial para mantener la consistencia\n",
        "\n",
        "#El modelo se aplica a la matriz de vectores\n",
        "X = asarray(X)\n",
        "km.fit(X)\n",
        "\n",
        "labels = km.labels_.tolist()\n",
        "\n",
        "#Resultado\n",
        "\n",
        "print(\"CLÚSTERES A LOS QUE PERTENECEN LOS SYNSETS\", labels)"
      ]
    },
    {
      "cell_type": "code",
      "execution_count": 99,
      "metadata": {
        "colab": {
          "base_uri": "https://localhost:8080/",
          "height": 703
        },
        "id": "3c0KuOA20Jnd",
        "outputId": "44c29341-06e9-4311-8205-9856cbb6402d"
      },
      "outputs": [
        {
          "data": {
            "image/png": "[encoded data removed]",
            "text/plain": [
              "<Figure size 2000x1500 with 1 Axes>"
            ]
          },
          "metadata": {},
          "output_type": "display_data"
        }
      ],
      "source": [
        "#Visualización\n",
        "\n",
        "import matplotlib.pyplot as plt\n",
        "from sklearn.decomposition import PCA\n",
        "\n",
        "#La reducción de dimensionalidad de los vectores se realiza con el método PCA\n",
        "\n",
        "reduced_data = PCA(n_components=2).fit_transform(X)\n",
        "\n",
        "#Representación gráfica del clustering\n",
        "\n",
        "labels_color_map = {\n",
        "    0: '#20b2aa', 1: '#ff7373' , 2: 'blue'\n",
        "}\n",
        "\n",
        "fig, ax = plt.subplots(figsize=(20,15))\n",
        "for index, instance in enumerate(reduced_data):\n",
        "    pca_comp_1, pca_comp_2 = reduced_data[index]\n",
        "    color = labels_color_map[labels[index]]\n",
        "    ax.scatter(pca_comp_1, pca_comp_2, c=color)\n",
        "    ax.annotate(vocabulary_synsets[index].name(),xy=(pca_comp_1, pca_comp_2))\n",
        "plt.show()\n"
      ]
    },
    {
      "cell_type": "code",
      "execution_count": 100,
      "metadata": {
        "colab": {
          "base_uri": "https://localhost:8080/"
        },
        "id": "mhS6uWrP0Jnd",
        "outputId": "73cf5a13-cbce-4693-c52e-7f8b68228c30"
      },
      "outputs": [
        {
          "name": "stdout",
          "output_type": "stream",
          "text": [
            "FIRE.n.09': intense adverse criticism\n",
            "ATTACK.n.09': strong criticism\n"
          ]
        }
      ],
      "source": [
        "#Comprobamos que los dos términos tienen sentidos parecidos\n",
        "#Obtenemos la definición (o glosa) de los synsets de Wordnet que forman un clúster\n",
        "\n",
        "print(\"FIRE.n.09':\", wn.synset('fire.n.09').definition())\n",
        "print(\"ATTACK.n.09':\", wn.synset('attack.n.09').definition())"
      ]
    },
    {
      "cell_type": "markdown",
      "metadata": {
        "id": "gFU8rw8_0Jnd"
      },
      "source": [
        "Cuando un término no se encuentra en Wordnet, podemos recurrir a la <b>DBpedia</b> para encontrar su synset."
      ]
    },
    {
      "cell_type": "code",
      "execution_count": 101,
      "metadata": {
        "colab": {
          "base_uri": "https://localhost:8080/",
          "height": 903
        },
        "id": "gzmvXwLA0Jne",
        "outputId": "0425ca47-3bb3-4940-ebf0-75410c822e1e"
      },
      "outputs": [
        {
          "name": "stdout",
          "output_type": "stream",
          "text": [
            "Collecting pydbpedia\n",
            "  Downloading pydbpedia-0.0.3.tar.gz (4.1 kB)\n",
            "  Preparing metadata (setup.py) ... \u001b[?25ldone\n",
            "\u001b[?25hCollecting requests==2.22.0 (from pydbpedia)\n",
            "  Downloading requests-2.22.0-py2.py3-none-any.whl.metadata (5.5 kB)\n",
            "Collecting chardet<3.1.0,>=3.0.2 (from requests==2.22.0->pydbpedia)\n",
            "  Downloading chardet-3.0.4-py2.py3-none-any.whl.metadata (3.2 kB)\n",
            "Collecting idna<2.9,>=2.5 (from requests==2.22.0->pydbpedia)\n",
            "  Downloading idna-2.8-py2.py3-none-any.whl.metadata (8.9 kB)\n",
            "Collecting urllib3!=1.25.0,!=1.25.1,<1.26,>=1.21.1 (from requests==2.22.0->pydbpedia)\n",
            "  Downloading urllib3-1.25.11-py2.py3-none-any.whl.metadata (41 kB)\n",
            "\u001b[2K     \u001b[90m━━━━━━━━━━━━━━━━━━━━━━━━━━━━━━━━━━━━━━━\u001b[0m \u001b[32m41.1/41.1 kB\u001b[0m \u001b[31m971.5 kB/s\u001b[0m eta \u001b[36m0:00:00\u001b[0m\n",
            "\u001b[?25hRequirement already satisfied: certifi>=2017.4.17 in /Users/alex/anaconda3/envs/env_nlp/lib/python3.8/site-packages (from requests==2.22.0->pydbpedia) (2024.2.2)\n",
            "Downloading requests-2.22.0-py2.py3-none-any.whl (57 kB)\n",
            "\u001b[2K   \u001b[90m━━━━━━━━━━━━━━━━━━━━━━━━━━━━━━━━━━━━━━━━\u001b[0m \u001b[32m58.0/58.0 kB\u001b[0m \u001b[31m1.9 MB/s\u001b[0m eta \u001b[36m0:00:00\u001b[0m\n",
            "\u001b[?25hDownloading chardet-3.0.4-py2.py3-none-any.whl (133 kB)\n",
            "\u001b[2K   \u001b[90m━━━━━━━━━━━━━━━━━━━━━━━━━━━━━━━━━━━━━━━━\u001b[0m \u001b[32m133.4/133.4 kB\u001b[0m \u001b[31m1.6 MB/s\u001b[0m eta \u001b[36m0:00:00\u001b[0m00:01\u001b[0m\n",
            "\u001b[?25hDownloading idna-2.8-py2.py3-none-any.whl (58 kB)\n",
            "\u001b[2K   \u001b[90m━━━━━━━━━━━━━━━━━━━━━━━━━━━━━━━━━━━━━━━━\u001b[0m \u001b[32m58.6/58.6 kB\u001b[0m \u001b[31m1.0 MB/s\u001b[0m eta \u001b[36m0:00:00\u001b[0ma \u001b[36m0:00:01\u001b[0m\n",
            "\u001b[?25hDownloading urllib3-1.25.11-py2.py3-none-any.whl (127 kB)\n",
            "\u001b[2K   \u001b[90m━━━━━━━━━━━━━━━━━━━━━━━━━━━━━━━━━━━━━━━━\u001b[0m \u001b[32m128.0/128.0 kB\u001b[0m \u001b[31m3.7 MB/s\u001b[0m eta \u001b[36m0:00:00\u001b[0m\n",
            "\u001b[?25hBuilding wheels for collected packages: pydbpedia\n",
            "  Building wheel for pydbpedia (setup.py) ... \u001b[?25ldone\n",
            "\u001b[?25h  Created wheel for pydbpedia: filename=pydbpedia-0.0.3-py3-none-any.whl size=4242 sha256=08950e13d60e39139cfd3159acd4bc61e5e3ac0d31ea669aaceb85327a991d55\n",
            "  Stored in directory: /Users/alex/Library/Caches/pip/wheels/73/90/33/14f2a38691bdaef9c79f07824e209ef4a7d09f92fa269653a9\n",
            "Successfully built pydbpedia\n",
            "Installing collected packages: chardet, urllib3, idna, requests, pydbpedia\n",
            "  Attempting uninstall: urllib3\n",
            "    Found existing installation: urllib3 2.1.0\n",
            "    Uninstalling urllib3-2.1.0:\n",
            "      Successfully uninstalled urllib3-2.1.0\n",
            "  Attempting uninstall: idna\n",
            "    Found existing installation: idna 3.4\n",
            "    Uninstalling idna-3.4:\n",
            "      Successfully uninstalled idna-3.4\n",
            "  Attempting uninstall: requests\n",
            "    Found existing installation: requests 2.31.0\n",
            "    Uninstalling requests-2.31.0:\n",
            "      Successfully uninstalled requests-2.31.0\n",
            "Successfully installed chardet-3.0.4 idna-2.8 pydbpedia-0.0.3 requests-2.22.0 urllib3-1.25.11\n"
          ]
        }
      ],
      "source": [
        "!pip install pydbpedia"
      ]
    },
    {
      "cell_type": "code",
      "execution_count": 102,
      "metadata": {
        "colab": {
          "base_uri": "https://localhost:8080/"
        },
        "id": "VWI31fd90Jne",
        "outputId": "867611dc-fd6f-4ef4-b307-578266a945b5"
      },
      "outputs": [
        {
          "name": "stdout",
          "output_type": "stream",
          "text": [
            "http://www.w3.org/2006/03/wn/wn20/instances/synset-celebrity-noun-1\n"
          ]
        }
      ],
      "source": [
        "from pydbpedia import PyDBpedia, namespace\n",
        "\n",
        "def get_dbpedia_synset(term):\n",
        "    Db_query = term\n",
        "    if term == 'Trump':\n",
        "        Db_query = 'Donald_Trump'\n",
        "    dbpedia_wrapper = PyDBpedia(endpoint=\"http://dbpedia.org/sparql\")\n",
        "    objects = dbpedia_wrapper.get_objects(subjects=[\"http://dbpedia.org/resource/\" + Db_query], predicates=['http://dbpedia.org/property/wordnet_type'])\n",
        "    return objects\n",
        "\n",
        "synset = get_dbpedia_synset('Trump')[0]\n",
        "print(synset)"
      ]
    },
    {
      "cell_type": "markdown",
      "metadata": {
        "id": "OIgBsZUm0Jne"
      },
      "source": [
        "### 4.2 Cálculo de similitud semántica según ConceptNet ###"
      ]
    },
    {
      "cell_type": "markdown",
      "metadata": {
        "id": "sUi3gRiz0Jne"
      },
      "source": [
        "Comparación entre los resultados de similitud semántica con <b>Wordnet</b> y con <b>ConceptNet</b>."
      ]
    },
    {
      "cell_type": "code",
      "execution_count": 103,
      "metadata": {
        "colab": {
          "base_uri": "https://localhost:8080/"
        },
        "id": "QfcbhbnZ0Jne",
        "outputId": "06f7c3fc-6054-4407-c2a3-fc1175d414b1"
      },
      "outputs": [
        {
          "name": "stdout",
          "output_type": "stream",
          "text": [
            "LA DISTANCIA SEMÁNTICA ENTRE 'UNITED STATES' Y 'WHITE HOUSE' SEGÚN WORDNET ES  0.08695652173913043\n",
            "LA DISTANCIA SEMÁNTICA ENTRE 'UNITED STATES' Y 'WHITE HOUSE' SEGÚN CONCEPTNET ES  0.356\n"
          ]
        }
      ],
      "source": [
        "from nltk.corpus import wordnet as wn\n",
        "\n",
        "united_states = wn.synset('united_states.n.01')\n",
        "white_house = wn.synset('white_house.n.01')\n",
        "\n",
        "print(\"LA DISTANCIA SEMÁNTICA ENTRE 'UNITED STATES' Y 'WHITE HOUSE' SEGÚN WORDNET ES \", \\\n",
        "      white_house.wup_similarity(united_states))\n",
        "\n",
        "import requests\n",
        "\n",
        "obj = requests.get('http://api.conceptnet.io/related/c/en/united_states?filter=/c/en/white_house').json()\n",
        "\n",
        "print(\"LA DISTANCIA SEMÁNTICA ENTRE 'UNITED STATES' Y 'WHITE HOUSE' SEGÚN CONCEPTNET ES \", \\\n",
        "      obj['related'][0]['weight'])"
      ]
    },
    {
      "cell_type": "markdown",
      "metadata": {
        "id": "-9pxnp4A0Jne"
      },
      "source": [
        "### 4.3 LDA ###"
      ]
    },
    {
      "cell_type": "markdown",
      "metadata": {
        "id": "PhJUKf_20Jnf"
      },
      "source": [
        "Abordamos ahora la detección de temas en los titulares TOP aplicando <b>LDA</b>. La distinción de temas se hace con términos nominales. Esto es, nombres y términos multipalabra con el <i>pattern</i> N+N."
      ]
    },
    {
      "cell_type": "code",
      "execution_count": 104,
      "metadata": {
        "id": "0YmbejQh0Jnf"
      },
      "outputs": [],
      "source": [
        "#Vocabulari el del model Word2vec\n",
        "\n",
        "import nltk\n",
        "from nltk.corpus import wordnet as wn\n",
        "\n",
        "def isnp(t):\n",
        "    v = False\n",
        "    #Si el término es una multipalabra, asumimos que es un término nominal\n",
        "    if ' ' in t:\n",
        "        v = True\n",
        "    #Si el término monopalabra no tiene synset en Wordnet, asumimos que es un término nominal que todavía no se ha\n",
        "    #incluido en Wordnet\n",
        "    elif wn.synsets(t) == []:\n",
        "        v = True\n",
        "    else:\n",
        "        try:\n",
        "            #Si existe un synset del término que es nominal, entonces el término es nominal\n",
        "            wn.synset(t + '.n.01')\n",
        "            v = True\n",
        "        except:\n",
        "            pass\n",
        "    return v\n",
        "\n",
        "\n",
        "def get_nominals(sentence):\n",
        "    #Términos nominales con una frecuencia mínima de 3 (son los términos del modelo Word2Vec)\n",
        "    nps = [np for np in sentence if np in terms_vocabulary\n",
        "           and isnp(np) == True ]\n",
        "    return nps\n",
        "\n",
        "nps_in_sentences = [get_nominals(ts) for ts in transformed_sentences if len(get_nominals(ts)) > 0]\n"
      ]
    },
    {
      "cell_type": "code",
      "execution_count": 105,
      "metadata": {
        "id": "4erxLSyA0Jnf"
      },
      "outputs": [],
      "source": [
        "#Librerías para realizar el LDA\n",
        "\n",
        "import gensim\n",
        "import gensim.corpora as corpora\n",
        "\n",
        "#Método para hacer el LDA\n",
        "\n",
        "def lda(terms):\n",
        "    dictionary = corpora.Dictionary(terms)\n",
        "    #print(dictionary)\n",
        "    # Creación del corpus\n",
        "    texts = terms\n",
        "    # Frecuencia de los términos en cada documento. El formato está en forma de tupla,\n",
        "    #(índice del término en el diccionario/vocabulario, frecuencia). Por ejemplo, [(0, 2), (1, 1), (2, 1), (3, 1)])\n",
        "    corpus = [dictionary.doc2bow(text) for text in texts]\n",
        "    #Creación del modelo.\n",
        "    ldamodel = gensim.models.ldamodel.LdaModel(corpus, # Frecuencia de los términos en cada documento\n",
        "                                               num_topics=7, #Número de temas\n",
        "                                               random_state=1, #Valor de inicio predefinido para conservar\n",
        "                                                               #coherencia\n",
        "                                               id2word = dictionary, #El vocabulario\n",
        "                                               passes=500) # Cuantos más pases, más consistente el modelo\n",
        "\n",
        "    return ldamodel\n",
        "\n",
        "ldamodel = lda(nps_in_sentences)"
      ]
    },
    {
      "cell_type": "code",
      "execution_count": 110,
      "metadata": {
        "colab": {
          "base_uri": "https://localhost:8080/",
          "height": 865
        },
        "id": "C8DXaFxo0Jnf",
        "outputId": "59352a3f-2860-40cc-faf6-fd72f357a1f1"
      },
      "outputs": [
        {
          "name": "stdout",
          "output_type": "stream",
          "text": [
            "['0.573*\"trump\" ', ' 0.071*\"trade\" ', ' 0.041*\"talk\" ', ' 0.031*\"chaos\" ', ' 0.031*\"point\" ', ' 0.031*\"g.o.p\" ', ' 0.031*\"voter\" ', ' 0.021*\"fear\" ', ' 0.021*\"job\" ', ' 0.013*\"show\"']\n",
            "['0.108*\"facebook\" ', ' 0.090*\"state\" ', ' 0.073*\"college\" ', ' 0.072*\"sue\" ', ' 0.072*\"go\" ', ' 0.055*\"abuse\" ', ' 0.055*\"call\" ', ' 0.055*\"data\" ', ' 0.055*\"firm\" ', ' 0.038*\"stop\"']\n",
            "['0.112*\"team\" ', ' 0.093*\"aide\" ', ' 0.075*\"bolton\" ', ' 0.075*\"target\" ', ' 0.057*\"race\" ', ' 0.057*\"mueller\" ', ' 0.057*\"saudi\" ', ' 0.039*\"president\" ', ' 0.039*\"class\" ', ' 0.039*\"fire\"']\n",
            "['0.111*\"school\" ', ' 0.070*\"picture\" ', ' 0.070*\"war\" ', ' 0.057*\"gun\" ', ' 0.057*\"good\" ', ' 0.057*\"win\" ', ' 0.057*\"democrat\" ', ' 0.057*\"age\" ', ' 0.057*\"president\" ', ' 0.043*\"left\"']\n",
            "['0.112*\"get\" ', ' 0.112*\"trade war\" ', ' 0.075*\"problem\" ', ' 0.075*\"control\" ', ' 0.057*\"face\" ', ' 0.057*\"house\" ', ' 0.057*\"c.e.o\" ', ' 0.057*\"charge\" ', ' 0.039*\"president\" ', ' 0.039*\"job\"']\n",
            "['0.154*\"u.s\" ', ' 0.099*\"america\" ', ' 0.080*\"lawyer\" ', ' 0.060*\"security\" ', ' 0.060*\"sex\" ', ' 0.060*\"lead\" ', ' 0.060*\"play\" ', ' 0.060*\"power\" ', ' 0.060*\"woman\" ', ' 0.041*\"president\"']\n",
            "['0.132*\"trump\" ', ' 0.131*\"tariff\" ', ' 0.115*\"say\" ', ' 0.050*\"plan\" ', ' 0.050*\"russia\" ', ' 0.050*\"gun control\" ', ' 0.050*\"teacher\" ', ' 0.050*\"void\" ', ' 0.034*\"sign\" ', ' 0.034*\"join\"']\n"
          ]
        },
        {
          "data": {
            "text/html": [
              "<table border=\"1\" class=\"dataframe\">\n",
              "  <thead>\n",
              "    <tr style=\"text-align: right;\">\n",
              "      <th></th>\n",
              "      <th>1</th>\n",
              "      <th>2</th>\n",
              "      <th>3</th>\n",
              "      <th>4</th>\n",
              "      <th>5</th>\n",
              "      <th>6</th>\n",
              "      <th>7</th>\n",
              "    </tr>\n",
              "  </thead>\n",
              "  <tbody>\n",
              "    <tr>\n",
              "      <th>0</th>\n",
              "      <td>\"trump\"</td>\n",
              "      <td>\"facebook\"</td>\n",
              "      <td>\"team\"</td>\n",
              "      <td>\"school\"</td>\n",
              "      <td>\"get\"</td>\n",
              "      <td>\"u.s\"</td>\n",
              "      <td>\"tariff\"</td>\n",
              "    </tr>\n",
              "    <tr>\n",
              "      <th>1</th>\n",
              "      <td>\"trade\"</td>\n",
              "      <td>\"state\"</td>\n",
              "      <td>\"aide\"</td>\n",
              "      <td>\"picture\"</td>\n",
              "      <td>\"trade war\"</td>\n",
              "      <td>\"america\"</td>\n",
              "      <td>\"say\"</td>\n",
              "    </tr>\n",
              "    <tr>\n",
              "      <th>2</th>\n",
              "      <td>\"talk\"</td>\n",
              "      <td>\"college\"</td>\n",
              "      <td>\"bolton\"</td>\n",
              "      <td>\"war\"</td>\n",
              "      <td>\"problem\"</td>\n",
              "      <td>\"lawyer\"</td>\n",
              "      <td>\"plan\"</td>\n",
              "    </tr>\n",
              "    <tr>\n",
              "      <th>3</th>\n",
              "      <td>\"chaos\"</td>\n",
              "      <td>\"sue\"</td>\n",
              "      <td>\"target\"</td>\n",
              "      <td>\"gun\"</td>\n",
              "      <td>\"control\"</td>\n",
              "      <td>\"security\"</td>\n",
              "      <td>\"russia\"</td>\n",
              "    </tr>\n",
              "    <tr>\n",
              "      <th>4</th>\n",
              "      <td>\"point\"</td>\n",
              "      <td>\"go\"</td>\n",
              "      <td>\"race\"</td>\n",
              "      <td>\"good\"</td>\n",
              "      <td>\"face\"</td>\n",
              "      <td>\"sex\"</td>\n",
              "      <td>\"gun control\"</td>\n",
              "    </tr>\n",
              "    <tr>\n",
              "      <th>5</th>\n",
              "      <td>\"g.o.p\"</td>\n",
              "      <td>\"abuse\"</td>\n",
              "      <td>\"mueller\"</td>\n",
              "      <td>\"win\"</td>\n",
              "      <td>\"house\"</td>\n",
              "      <td>\"lead\"</td>\n",
              "      <td>\"teacher\"</td>\n",
              "    </tr>\n",
              "    <tr>\n",
              "      <th>6</th>\n",
              "      <td>\"voter\"</td>\n",
              "      <td>\"call\"</td>\n",
              "      <td>\"saudi\"</td>\n",
              "      <td>\"democrat\"</td>\n",
              "      <td>\"c.e.o\"</td>\n",
              "      <td>\"play\"</td>\n",
              "      <td>\"void\"</td>\n",
              "    </tr>\n",
              "    <tr>\n",
              "      <th>7</th>\n",
              "      <td>\"fear\"</td>\n",
              "      <td>\"data\"</td>\n",
              "      <td>\"president\"</td>\n",
              "      <td>\"age\"</td>\n",
              "      <td>\"charge\"</td>\n",
              "      <td>\"power\"</td>\n",
              "      <td>\"sign\"</td>\n",
              "    </tr>\n",
              "    <tr>\n",
              "      <th>8</th>\n",
              "      <td>\"job\"</td>\n",
              "      <td>\"firm\"</td>\n",
              "      <td>\"class\"</td>\n",
              "      <td>\"left\"</td>\n",
              "      <td>\"job\"</td>\n",
              "      <td>\"woman\"</td>\n",
              "      <td>\"join\"</td>\n",
              "    </tr>\n",
              "    <tr>\n",
              "      <th>9</th>\n",
              "      <td>\"show\"</td>\n",
              "      <td>\"stop\"</td>\n",
              "      <td>\"fire\"</td>\n",
              "      <td></td>\n",
              "      <td></td>\n",
              "      <td>\"president\"</td>\n",
              "      <td></td>\n",
              "    </tr>\n",
              "  </tbody>\n",
              "</table>"
            ],
            "text/plain": [
              "<IPython.core.display.HTML object>"
            ]
          },
          "metadata": {},
          "output_type": "display_data"
        }
      ],
      "source": [
        "#Visualización del LDA\n",
        "\n",
        "#Librería para crear matrices\n",
        "import numpy as np\n",
        "\n",
        "#Librerías para la visualización\n",
        "import pandas as pd\n",
        "from IPython.display import display, HTML\n",
        "\n",
        "\n",
        "# Matriz donde se muestran los diez términos del vocabulario más probables de pertenecer a un topic.\n",
        "\n",
        "K = ldamodel.num_topics\n",
        "topicWordProbMat = ldamodel.print_topics(num_topics=K, num_words=10)\n",
        "\n",
        "#La matriz se muestra como un dataframe\n",
        "columns = ['1','2','3', '4', '5','6','7']\n",
        "df = pd.DataFrame(columns = columns)\n",
        "pd.set_option('display.width', 2000)\n",
        "\n",
        "zz = np.zeros(shape=(1000,K))\n",
        "\n",
        "last_number=0\n",
        "DC={}\n",
        "\n",
        "for x in range (10):\n",
        "    data = pd.DataFrame({columns[0]:\"\",\n",
        "                         columns[1]:\"\",\n",
        "                         columns[2]:\"\",\n",
        "                         columns[3]:\"\",\n",
        "                         columns[4]:\"\",\n",
        "                         columns[5]:\"\",\n",
        "                         columns[6]:\"\",\n",
        "                        },index=[0])\n",
        "    df = pd.concat([df, data], ignore_index=True)\n",
        "\n",
        "\n",
        "for line in topicWordProbMat:\n",
        "    topic, word = line\n",
        "    probabilities=word.split(\"+\")\n",
        "    print(probabilities)\n",
        "    y=0\n",
        "    for pr in probabilities:\n",
        "        a=pr.split(\"*\")\n",
        "        df.iloc[y,topic] = a[1]\n",
        "        if a[1] in DC:\n",
        "                zz[DC[a[1]]][topic]=a[0]\n",
        "        else:\n",
        "            zz[last_number][topic]=a[0]\n",
        "            DC[a[1]]=last_number\n",
        "            last_number=last_number+1\n",
        "            y=y+1\n",
        "\n",
        "#Ordenar strings con números\n",
        "def natural_keys(text):\n",
        "    '''\n",
        "    alist.sort(key=natural_keys) sorts in human order\n",
        "    http://nedbatchelder.com/blog/200712/human_sorting.html\n",
        "    (See Toothy's implementation in the comments)\n",
        "    '''\n",
        "    def atoi(text):\n",
        "        return int(text) if text.isdigit() else text\n",
        "\n",
        "    return [atoi(c) for c in re.split('(\\d+)', text)]\n",
        "\n",
        "df = df.reindex(columns=sorted(df.columns, key=natural_keys))\n",
        "display(HTML(df.to_html()))"
      ]
    },
    {
      "cell_type": "markdown",
      "metadata": {
        "id": "bQy55OQJ0Jnf"
      },
      "source": [
        "## 5. Predicción ##"
      ]
    },
    {
      "cell_type": "markdown",
      "metadata": {
        "id": "2b-ie_NN0Jnf"
      },
      "source": [
        "Entendemos como predicción la clasificación automática de un dato. Por ejemplo, entendemos que cuando un sistema  clasifica automáticamente un titular como TOP está prediciendo que este titular motivará muchos comentarios. Mostraremos la predicción de si un titular motivará o no comentarios, aplicando un método de clasificación automática, basado en aprendizaje automático (<i>machine learning</i>)."
      ]
    },
    {
      "cell_type": "markdown",
      "metadata": {
        "id": "Oru41RA10Jnf"
      },
      "source": [
        "<b>Preprocesado</b>"
      ]
    },
    {
      "cell_type": "code",
      "execution_count": 111,
      "metadata": {
        "colab": {
          "base_uri": "https://localhost:8080/"
        },
        "id": "qFdAPl9N0Jnf",
        "outputId": "c91666d5-d7c4-4789-845e-8d5f97288954"
      },
      "outputs": [
        {
          "name": "stdout",
          "output_type": "stream",
          "text": [
            "['virtual coin real resource', 'u.s advance military plan north_korea', 'trump bad judge', 'erase dissent china ban pooh bear n', 'loan flow kushner co visit house', 'china envoy intend ease trade tension', 'president trump contradictory false comment gun policy lawmaker', 'classic letter puzzle', 'silicon_valley disruption australian school', 'gianni_versace episode nothing man']\n",
            "[[0. 0. 0. ... 0. 0. 0.]\n",
            " [0. 0. 0. ... 0. 0. 0.]\n",
            " [0. 0. 0. ... 0. 0. 0.]\n",
            " ...\n",
            " [0. 0. 0. ... 0. 0. 0.]\n",
            " [0. 0. 0. ... 0. 0. 0.]\n",
            " [0. 0. 0. ... 0. 0. 0.]]\n"
          ]
        }
      ],
      "source": [
        "import pandas as pd\n",
        "import re\n",
        "\n",
        "#Data labelling\n",
        "\n",
        "#Convertimos el contenido del fichero de los titulares en un dataframe\n",
        "df = pd.read_csv('NYT-Comment-Headlines.csv', sep='\\t')\n",
        "\n",
        "#La clase de cada titular está ya declarada en la columna 'Tag', en la que el titular está etiquetado como 'TOP'\n",
        "#o 'NOTOP'. Podemos, por tanto, hacer el tag labelling. Para ello se crean dos listas:\n",
        "#data: lista que recoge los titulares\n",
        "#data_labels: lista de las etiquetas de los titulares, en el mismo orden en que están los titulares en 'data'\n",
        "\n",
        "data = []\n",
        "data_labels = []\n",
        "\n",
        "headlines = df['Headline'].tolist()\n",
        "tags = df['Tag'].tolist()\n",
        "\n",
        "for i in range(len(headlines)):\n",
        "    data.append(headlines[i])\n",
        "    data_labels.append(tags[i])\n",
        "\n",
        "#El preprocesado requiere crear un modelo con la vectorización de los titulares. El vectorizador será un\n",
        "#tfidf vectorizer\n",
        "\n",
        "#1. Encontramos los phrases que ya ha aprendido a detectar en cada titular y seleccionamos los que son términos\n",
        "\n",
        "def transform_sentence(sentence):\n",
        "    sentence_terms = phrases[word_tokenize(sentence.lower())]\n",
        "    #Despojamos los signos de puntuación de los términos\n",
        "    stripped_candidates = [st.strip('\".,;:-():!?-‘’ ') for st in sentence_terms]\n",
        "    #Unificamos los términos\n",
        "    terms_unified = [unify(sc).lstrip(' ') for sc in stripped_candidates] #(ver 3.3)\n",
        "    #Lematizamos los términos con el lematizador de Wordnet\n",
        "    terms_lemmatized_and_unified = [wnlemmatize(ut,nltk.pos_tag(word_tokenize(ut))).replace(' ', '_') \\\n",
        "                                    for ut in terms_unified \\\n",
        "                                    if good_candidate(ut,nltk.pos_tag(word_tokenize(ut))) == True] #(ver 3.3)\n",
        "    return terms_lemmatized_and_unified\n",
        "\n",
        "terms_stream = [transform_sentence(dt) for dt in data]\n",
        "\n",
        "#2. Convertimos la lista de términos de cada titular en un documento y lo añadimos a la colección\n",
        "\n",
        "documents = [\" \".join(ts) for ts in terms_stream]\n",
        "\n",
        "print(documents[:10])\n",
        "\n",
        "#3. Vectorización de los titulares (modelo bag of words)\n",
        "from sklearn.feature_extraction.text import TfidfVectorizer\n",
        "import numpy as np\n",
        "\n",
        "vectorizerNYT = TfidfVectorizer(\n",
        "    analyzer= 'word',\n",
        " )\n",
        "X = vectorizerNYT.fit_transform(documents)\n",
        "#Matriz con los vectores\n",
        "MNYT = X.toarray()\n",
        "\n",
        "#Obtenemos los feature names\n",
        "feature_names = np.array(vectorizerNYT.get_feature_names_out())\n",
        "#print(feature_names)\n",
        "print(MNYT)\n"
      ]
    },
    {
      "cell_type": "markdown",
      "metadata": {
        "id": "hLf1JNPb0Jng"
      },
      "source": [
        "<b>Preparación del corpus de entrenamiento y de test.</b>"
      ]
    },
    {
      "cell_type": "code",
      "execution_count": 112,
      "metadata": {
        "id": "jG1AkLRU0Jng"
      },
      "outputs": [],
      "source": [
        "#1. Importar métodos para crear un corpus de entrenamiento y evaluación\n",
        "from sklearn.model_selection import train_test_split\n",
        "\n",
        "#Preparación del corpus de entrenamiento y el corpus de test\n",
        "\n",
        "#x_train: array de los vectores de los documentos en el corpus de entrenamiento (valores tf.idf)\n",
        "#y_train: sus etiquetas correspondientes (TOP, NONTOP)\n",
        "\n",
        "#x_test: array de los vectores de los documentos en el corpus de test (valores tf.idf)\n",
        "#y_test: sus etiquetas correspondientes (TOP, NONTOP)\n",
        "\n",
        "X_train, X_test, y_train, y_test  = train_test_split(\n",
        "        MNYT,\n",
        "        data_labels,     # Etiquetas de los datos\n",
        "        train_size=0.80, # Se dedica el 80% del corpus total al corpus de entrenamiento\n",
        "        random_state=1234)"
      ]
    },
    {
      "cell_type": "markdown",
      "metadata": {
        "id": "rF5pRDMG0Jng"
      },
      "source": [
        "<b>Entrenamiento</b>"
      ]
    },
    {
      "cell_type": "code",
      "execution_count": 113,
      "metadata": {
        "id": "aozlQlzB0Jng"
      },
      "outputs": [],
      "source": [
        "#2. Importar clasificador\n",
        "from sklearn.linear_model import LogisticRegression\n",
        "\n",
        "#Establecemos el método de clasificación (método logistic regression)\n",
        "classifier = LogisticRegression()\n",
        "#Entrenamiento del clasificador aplicando el método al corpus de entrenamiento\n",
        "log_model = classifier.fit(X=X_train, y=y_train)"
      ]
    },
    {
      "cell_type": "markdown",
      "metadata": {
        "id": "sIZ3ScBr0Jng"
      },
      "source": [
        "<b>Clasificación</b>"
      ]
    },
    {
      "cell_type": "code",
      "execution_count": 114,
      "metadata": {
        "colab": {
          "base_uri": "https://localhost:8080/"
        },
        "id": "xbwAFJV90Jng",
        "outputId": "522de96c-0d6f-4a22-ffc7-e6031727f2f2"
      },
      "outputs": [
        {
          "name": "stdout",
          "output_type": "stream",
          "text": [
            "\n",
            "CLASES TOP/NONTOP DEL CORPUS DE TEST:\n",
            "===============\n",
            "['NONTOP' 'NONTOP' 'NONTOP' 'NONTOP' 'NONTOP' 'NONTOP' 'NONTOP' 'NONTOP'\n",
            " 'NONTOP' 'NONTOP' 'NONTOP' 'NONTOP' 'NONTOP' 'NONTOP' 'TOP' 'NONTOP'\n",
            " 'NONTOP' 'NONTOP' 'NONTOP' 'NONTOP' 'NONTOP' 'NONTOP' 'NONTOP' 'NONTOP'\n",
            " 'NONTOP' 'NONTOP' 'NONTOP' 'NONTOP' 'NONTOP' 'NONTOP' 'NONTOP' 'NONTOP'\n",
            " 'NONTOP' 'NONTOP' 'NONTOP' 'NONTOP' 'NONTOP' 'NONTOP' 'NONTOP' 'NONTOP'\n",
            " 'NONTOP' 'NONTOP' 'NONTOP' 'NONTOP' 'NONTOP' 'NONTOP' 'NONTOP' 'NONTOP'\n",
            " 'NONTOP' 'NONTOP' 'NONTOP' 'NONTOP' 'NONTOP' 'NONTOP' 'NONTOP' 'NONTOP'\n",
            " 'NONTOP' 'NONTOP' 'NONTOP' 'NONTOP' 'NONTOP' 'NONTOP' 'NONTOP' 'NONTOP'\n",
            " 'NONTOP' 'NONTOP' 'NONTOP' 'NONTOP' 'NONTOP' 'NONTOP' 'NONTOP' 'NONTOP'\n",
            " 'NONTOP' 'NONTOP' 'NONTOP' 'NONTOP' 'TOP' 'NONTOP' 'NONTOP' 'NONTOP'\n",
            " 'NONTOP' 'NONTOP' 'NONTOP' 'NONTOP' 'NONTOP' 'NONTOP' 'NONTOP' 'NONTOP'\n",
            " 'NONTOP' 'NONTOP' 'NONTOP' 'NONTOP' 'NONTOP' 'NONTOP' 'NONTOP' 'NONTOP'\n",
            " 'NONTOP' 'NONTOP' 'NONTOP' 'NONTOP' 'NONTOP' 'NONTOP' 'NONTOP' 'NONTOP'\n",
            " 'NONTOP' 'NONTOP' 'NONTOP' 'NONTOP' 'NONTOP' 'NONTOP' 'NONTOP' 'NONTOP'\n",
            " 'NONTOP' 'NONTOP' 'NONTOP' 'NONTOP' 'NONTOP' 'NONTOP' 'NONTOP' 'NONTOP'\n",
            " 'NONTOP' 'NONTOP' 'NONTOP' 'TOP' 'NONTOP' 'NONTOP' 'NONTOP' 'NONTOP'\n",
            " 'NONTOP' 'NONTOP' 'NONTOP' 'NONTOP' 'NONTOP' 'NONTOP' 'NONTOP' 'NONTOP'\n",
            " 'NONTOP' 'NONTOP' 'NONTOP' 'NONTOP' 'NONTOP' 'NONTOP' 'NONTOP' 'NONTOP'\n",
            " 'NONTOP' 'NONTOP' 'NONTOP' 'NONTOP' 'NONTOP' 'NONTOP' 'NONTOP' 'NONTOP'\n",
            " 'NONTOP' 'NONTOP' 'NONTOP' 'NONTOP' 'NONTOP' 'NONTOP' 'NONTOP' 'NONTOP'\n",
            " 'NONTOP' 'NONTOP' 'NONTOP' 'NONTOP' 'NONTOP' 'NONTOP' 'NONTOP' 'NONTOP'\n",
            " 'NONTOP' 'TOP' 'NONTOP' 'NONTOP' 'NONTOP' 'NONTOP' 'NONTOP' 'NONTOP'\n",
            " 'NONTOP' 'NONTOP' 'NONTOP' 'NONTOP' 'NONTOP' 'TOP' 'NONTOP' 'NONTOP'\n",
            " 'NONTOP' 'NONTOP' 'NONTOP' 'NONTOP' 'NONTOP' 'NONTOP' 'NONTOP' 'NONTOP'\n",
            " 'NONTOP' 'NONTOP' 'NONTOP' 'NONTOP' 'NONTOP' 'NONTOP' 'NONTOP' 'NONTOP'\n",
            " 'NONTOP' 'NONTOP' 'NONTOP' 'NONTOP' 'NONTOP' 'NONTOP' 'NONTOP' 'NONTOP'\n",
            " 'NONTOP' 'TOP' 'NONTOP' 'NONTOP' 'NONTOP' 'NONTOP' 'NONTOP' 'NONTOP'\n",
            " 'NONTOP' 'NONTOP' 'NONTOP' 'NONTOP' 'NONTOP' 'NONTOP' 'NONTOP' 'NONTOP'\n",
            " 'NONTOP' 'NONTOP' 'NONTOP' 'NONTOP' 'NONTOP' 'NONTOP' 'NONTOP' 'NONTOP'\n",
            " 'NONTOP' 'NONTOP' 'NONTOP' 'NONTOP' 'NONTOP' 'NONTOP' 'TOP' 'NONTOP'\n",
            " 'NONTOP' 'NONTOP' 'NONTOP' 'NONTOP' 'NONTOP' 'TOP' 'NONTOP' 'NONTOP'\n",
            " 'NONTOP' 'NONTOP' 'NONTOP' 'NONTOP' 'NONTOP' 'TOP' 'NONTOP' 'NONTOP'\n",
            " 'NONTOP' 'TOP' 'NONTOP' 'NONTOP' 'NONTOP' 'NONTOP' 'NONTOP' 'TOP'\n",
            " 'NONTOP' 'NONTOP' 'NONTOP' 'NONTOP' 'NONTOP' 'NONTOP' 'NONTOP' 'NONTOP'\n",
            " 'NONTOP' 'NONTOP' 'NONTOP' 'NONTOP' 'NONTOP']\n",
            "\n",
            "FEATURES MÁS INFORMATIVOS EN LOS TITULARES TOP Y NO TOP:\n",
            "===============\n",
            "NONTOP -0.8025662367200145 episode\n",
            "NONTOP -0.7510102545711167 black\n",
            "NONTOP -0.704459373211376 season\n",
            "NONTOP -0.6793004037836051 brooklyn\n",
            "NONTOP -0.6589162125712621 teenager\n",
            "NONTOP -0.6450811084156466 time\n",
            "NONTOP -0.6285054979704907 year\n",
            "NONTOP -0.6187052299602845 kid\n",
            "NONTOP -0.6004058806662923 new_york\n",
            "NONTOP -0.5283800630848465 low\n",
            "TOP 3.6424257590386704 trump\n",
            "TOP 1.238594927875851 picture\n",
            "TOP 1.1317318907670912 president\n",
            "TOP 1.0963124172262446 job\n",
            "TOP 0.9735016573892141 voter\n",
            "TOP 0.9227500408368493 school\n",
            "TOP 0.9163854910855762 bolton\n",
            "TOP 0.9122332901569482 chaos\n",
            "TOP 0.8653228359899394 college\n",
            "TOP 0.8219692665925532 trade\n",
            "None\n"
          ]
        }
      ],
      "source": [
        "#Resultados de la clasificación/predicción del clasificador entrenado al corpus de test\n",
        "y_pred = log_model.predict(X_test)\n",
        "\n",
        "print(\"\\nCLASES TOP/NONTOP DEL CORPUS DE TEST:\\n===============\")\n",
        "\n",
        "print(y_pred)\n",
        "\n",
        "def most_informative_feature_for_binary_classification(vectorizer, classifier, n=10):\n",
        "    class_labels = classifier.classes_\n",
        "    feature_names = vectorizer.get_feature_names_out()\n",
        "    topn_class1 = sorted(zip(classifier.coef_[0], feature_names))[:n]\n",
        "    topn_class2 = sorted(zip(classifier.coef_[0], feature_names))[-n:]\n",
        "\n",
        "    for coef, feat in topn_class1:\n",
        "        print (class_labels[0], coef, feat)\n",
        "\n",
        "    for coef, feat in reversed(topn_class2):\n",
        "        print (class_labels[1], coef, feat)\n",
        "\n",
        "print(\"\\nFEATURES MÁS INFORMATIVOS EN LOS TITULARES TOP Y NO TOP:\\n===============\")\n",
        "\n",
        "print(most_informative_feature_for_binary_classification(vectorizerNYT, classifier))"
      ]
    }
  ],
  "metadata": {
    "colab": {
      "provenance": []
    },
    "kernelspec": {
      "display_name": "Python 3",
      "language": "python",
      "name": "python3"
    },
    "language_info": {
      "codemirror_mode": {
        "name": "ipython",
        "version": 3
      },
      "file_extension": ".py",
      "mimetype": "text/x-python",
      "name": "python",
      "nbconvert_exporter": "python",
      "pygments_lexer": "ipython3",
      "version": "3.8.19"
    }
  },
  "nbformat": 4,
  "nbformat_minor": 0
}
