{
 "cells": [
  {
   "cell_type": "markdown",
   "metadata": {},
   "source": [
    "<div style=\"width: 100%; clear: both;\">\n",
    "<div style=\"float: left; width: 50%;\">\n",
    "<img src=\"http://www.uoc.edu/portal/_resources/common/imatges/marca_UOC/UOC_Masterbrand.jpg\", align=\"left\">\n",
    "</div>\n",
    "</div>\n",
    "<div style=\"float: right; width: 50%;\">\n",
    "<p style=\"margin: 0; padding-top: 22px; text-align:right;\">M2.856 · Análisis de sentimientos y redes sociales</p>\n",
    "<p style=\"margin: 0; text-align:right;\">Máster universitario de Ciencia de datos (<i>Data Science</i>)</p>\n",
    "<p style=\"margin: 0; text-align:right; padding-button: 100px;\">Estudios de Informática, Multimedia y Telecomunicación</p>\n",
    "</div>\n",
    "</div>\n",
    "<div style=\"width: 100%; clear: both;\">\n",
    "<div style=\"width:100%;\">&nbsp;</div>\n",
    "\n",
    "# Módulo 2: Extracción de sentimientos y opiniones\n",
    "\n",
    "## Scripts de los métodos explicados en el módulo"
   ]
  },
  {
   "cell_type": "markdown",
   "metadata": {
    "collapsed": true
   },
   "source": [
    "A continuación, se presentan los scripts que ejemplifican los métodos explicados en PLA-2.\n",
    "\n",
    "Paquetes requeridos para ejecutar este notebook, además de los comentados en el notebook anterior (Notebook-PLA1):\n",
    "- rdflib y neuralcoref (previa instalación de spaCy). Para la instalación podéis usar \"pip\" o \"conda\", según el sistema que tengáis instalado.\n",
    "\n",
    "- Recordad que tenéisq que mantener la misma estructura de las carpetas para que el código encuentre los ficheros .csv y las imágenes que se usan. \n",
    "\n",
    "<u>Nota</u>: Se recomienda emplear la versión 3.6 de Python."
   ]
  },
  {
   "cell_type": "markdown",
   "metadata": {},
   "source": [
    "## 1. Detección de los componentes de una opinión ##"
   ]
  },
  {
   "cell_type": "markdown",
   "metadata": {},
   "source": [
    "### 1.1 Detección de las distintas denominaciones del <i>target</i> ###\n",
    "\n",
    "Mostramos cómo se detecta el <i>target</i> en sus distintas variaciones:\n",
    "<ol>\n",
    "<li>Hiperónimo</li>\n",
    "<li>Sinónimo</li>\n",
    "<li>Referencia anafórica</li>\n",
    "</ol>"
   ]
  },
  {
   "cell_type": "markdown",
   "metadata": {},
   "source": [
    "#### Comprobar si el término A es un hiperónimo del término B consultando DBpedia ####"
   ]
  },
  {
   "cell_type": "code",
   "execution_count": 31,
   "metadata": {},
   "outputs": [
    {
     "name": "stdout",
     "output_type": "stream",
     "text": [
      "Telephone ES UN HIPERÓNIMO DE IPhone\n"
     ]
    }
   ],
   "source": [
    "#Importamos la librería para poder hacer las consultas en la DBpedia\n",
    "#La respuesta de DBpedia es un grafo y la información se estructura en formato RDF\n",
    "import rdflib\n",
    "from rdflib import Graph, URIRef, RDF\n",
    "\n",
    "#Método para saber si A es un hiperónimo de B\n",
    "def is_hyperonym(source,target):\n",
    "    dbpedia_uri = URIRef('http://dbpedia.org/resource/'+ source) #Uri que apunta a A en DBpedia\n",
    "    g = Graph()\n",
    "    g.parse(dbpedia_uri)#Se parsea la respuesta de DBpedia en forma de grafo\n",
    "    url_matches = []\n",
    "    for obj in g.objects(subject=dbpedia_uri, predicate=RDF.type): #Buscamos en el grafo información\n",
    "        #sobre los objetos del predicado 'type' cuando el sujeto es la uri que apunta a A\n",
    "        #Se recogen las referencias al objeto de 'type' según Yago en las que esté B\n",
    "        if 'http://dbpedia.org/class/yago/' in obj and target in obj:\n",
    "            url_matches.append(obj)\n",
    "    #Si hay referencias al objeto de type que contienen B, entonces A es su hiperónimo\n",
    "    if len(url_matches) > 0:\n",
    "        print(target, \"ES UN HIPERÓNIMO DE\", source)\n",
    "    else:\n",
    "        print(target, \"NO ES UN HIPERÓNIMO DE \", source)\n",
    "\n",
    "is_hyperonym('IPhone','Telephone')\n"
   ]
  },
  {
   "cell_type": "markdown",
   "metadata": {},
   "source": [
    "#### Comprobar si A es un sinónimo de B con <i>word embeddings</i>. ####"
   ]
  },
  {
   "cell_type": "code",
   "execution_count": 32,
   "metadata": {},
   "outputs": [
    {
     "name": "stdout",
     "output_type": "stream",
     "text": [
      "PHRASES CON VALOR DE SIMILITUD [('samsung products', 0.5297492146492004), ('htc', 0.5151442885398865), ('lg', 0.5053366422653198), ('galaxy', 0.4459126889705658), ('touch wiz', 0.43676653504371643), ('touchwiz', 0.43020638823509216), ('samsungs', 0.40303099155426025), ('quite frankly', 0.39835870265960693), ('called samsung', 0.3946045935153961), ('marketing', 0.3945105969905853)]\n",
      "CANDIDATOS A TARGET ['samsung products', 'htc', 'lg', 'galaxy', 'touch wiz', 'touchwiz', 'samsungs']\n"
     ]
    }
   ],
   "source": [
    "import gensim\n",
    "import nltk\n",
    "from nltk.corpus import wordnet as wn\n",
    "\n",
    "#Cargamos el modelo Word2Vec de opiniones sobre smartphones\n",
    "model = gensim.models.Word2Vec.load('MODEL-MOBILEPHONE-REVIEWS-PL2')\n",
    "\n",
    "term = 'samsung'\n",
    "\n",
    "#Obtenemos los phrases más similares al término a partir del modelo Word2Vec\n",
    "most_similars = model.wv.most_similar(positive=term)\n",
    "\n",
    "print(\"PHRASES CON VALOR DE SIMILITUD\", most_similars)\n",
    "\n",
    "#De la lista de phrases más similares (score de similitud > 0.4) tomamos los sintagmas nominales \n",
    "#(NN, NS o JJ+NN, NN+NN, NN+NS)\n",
    "\n",
    "def is_np(candidate):\n",
    "    test = False\n",
    "    tokens = candidate.split()\n",
    "    tagged_tokens = nltk.pos_tag(tokens)\n",
    "    #Si es un término multipalabra\n",
    "    if len(tagged_tokens) > 1:\n",
    "        PoS_initial = tagged_tokens[0][1][:2]\n",
    "        PoS_final = tagged_tokens[-1][1][:2]\n",
    "        if ((PoS_initial == 'NN' or PoS_initial == 'JJ') and (PoS_final == 'NN' or PoS_final == 'NS')):\n",
    "            test = True\n",
    "    #Si es un término monopalabra\n",
    "    else:\n",
    "        if len(candidate) > 1 and tagged_tokens[0][1][:2] == 'NN' or tagged_tokens[0][1][:2] == 'NS':\n",
    "            test = True \n",
    "    return test\n",
    "\n",
    "\n",
    "target_candidates = [tc[0] for tc in most_similars if tc[1] > 0.4 and is_np(tc[0]) == True]\n",
    "\n",
    "print(\"CANDIDATOS A TARGET\", target_candidates)\n"
   ]
  },
  {
   "cell_type": "markdown",
   "metadata": {},
   "source": [
    "#### Referencia anafórica al <i>target</i> ####"
   ]
  },
  {
   "cell_type": "code",
   "execution_count": 33,
   "metadata": {},
   "outputs": [
    {
     "ename": "ModuleNotFoundError",
     "evalue": "No module named 'pytorch'",
     "output_type": "error",
     "traceback": [
      "\u001b[0;31m---------------------------------------------------------------------------\u001b[0m",
      "\u001b[0;31mModuleNotFoundError\u001b[0m                       Traceback (most recent call last)",
      "\u001b[0;32m<ipython-input-33-1aed568fae11>\u001b[0m in \u001b[0;36m<module>\u001b[0;34m\u001b[0m\n\u001b[1;32m      1\u001b[0m \u001b[0;32mimport\u001b[0m \u001b[0mneuralcoref\u001b[0m\u001b[0;34m\u001b[0m\u001b[0;34m\u001b[0m\u001b[0m\n\u001b[1;32m      2\u001b[0m \u001b[0;32mimport\u001b[0m \u001b[0mspacy\u001b[0m\u001b[0;34m\u001b[0m\u001b[0;34m\u001b[0m\u001b[0m\n\u001b[0;32m----> 3\u001b[0;31m \u001b[0;32mimport\u001b[0m \u001b[0mpytorch\u001b[0m\u001b[0;34m\u001b[0m\u001b[0;34m\u001b[0m\u001b[0m\n\u001b[0m\u001b[1;32m      4\u001b[0m \u001b[0;34m\u001b[0m\u001b[0m\n\u001b[1;32m      5\u001b[0m \u001b[0mnlp\u001b[0m \u001b[0;34m=\u001b[0m \u001b[0mspacy\u001b[0m\u001b[0;34m.\u001b[0m\u001b[0mload\u001b[0m\u001b[0;34m(\u001b[0m\u001b[0;34m'en_coref_sm'\u001b[0m\u001b[0;34m)\u001b[0m\u001b[0;34m\u001b[0m\u001b[0;34m\u001b[0m\u001b[0m\n",
      "\u001b[0;31mModuleNotFoundError\u001b[0m: No module named 'pytorch'"
     ]
    }
   ],
   "source": [
    "import neuralcoref\n",
    "import spacy\n",
    "import pytorch\n",
    "\n",
    "nlp = spacy.load('en_coref_sm') \n",
    "#o import en_coref_sm nlp = en_coref_sm.load() \n",
    "#o en_coref_lg para un modelo entrenado con un corpus más grande\n",
    "\n",
    "doc = nlp(u'I bought an iPhone a few days ago. It was such a nice phone. \\\n",
    "The touch screen was really cool. The voice quality was clear too. \\\n",
    "However, my mother was mad with me as I did not tell her before I bought it. \\\n",
    "Although the battery life was not long, that is ok for me')\n",
    "\n",
    "doc._.coref_resolved\n"
   ]
  },
  {
   "cell_type": "markdown",
   "metadata": {},
   "source": [
    "### 1.2 Detección de los aspectos ###"
   ]
  },
  {
   "cell_type": "markdown",
   "metadata": {},
   "source": [
    "#### Obtener las propiedades de un producto según una <i>infobox</i> de la Wikipedia ####"
   ]
  },
  {
   "cell_type": "code",
   "execution_count": 34,
   "metadata": {},
   "outputs": [
    {
     "name": "stdout",
     "output_type": "stream",
     "text": [
      "['unitssold', 'developer', 'reason', 'sound', 'date', 'dimensions', 'power', 'caption', 'display', 'related', 'storage', 'memory', 'soc', 'graphics', 'releasedate', 'connectivity', 'service']\n"
     ]
    }
   ],
   "source": [
    "import requests\n",
    "\n",
    "#Obtener las propiedades del target 'IPhone', consultando el grafo de DBpedia \n",
    "#y obteniendo la información en formato RDF\n",
    "\n",
    "def get_properties(target):\n",
    "    data = requests.get(\"http://dbpedia.org/data/\" + target + \".json\").json()\n",
    "    uris = data[\"http://dbpedia.org/resource/\" + target]\n",
    "    properties = []\n",
    "\n",
    "    for u in uris:\n",
    "        if '/property/' in u:\n",
    "            us = u.split('/')\n",
    "            properties.append(us[-1])       \n",
    "    return properties\n",
    "\n",
    "target = 'IPhone'\n",
    "\n",
    "properties_target = get_properties(target)\n",
    "\n",
    "print(properties_target)\n"
   ]
  },
  {
   "cell_type": "markdown",
   "metadata": {},
   "source": [
    "#### Detección de los aspectos por <i>clustering</i> de sus synsets de Wordnet ###"
   ]
  },
  {
   "cell_type": "code",
   "execution_count": 35,
   "metadata": {},
   "outputs": [],
   "source": [
    "#De una opinión, tomamos los candidatos a ser aspectos del target\n",
    "\n",
    "import nltk\n",
    "from nltk import word_tokenize\n",
    "from nltk.util import ngrams\n",
    "from nltk.collocations import *\n",
    "import re\n",
    "import collections\n",
    "\n",
    "#Un candidato a ser aspecto es un término monopalabra o multipalabra que forma un sintagma nominal (is_np)\n",
    "\n",
    "def is_np(candidate):\n",
    "    test = False\n",
    "    tokens = candidate.split()\n",
    "    tagged_tokens = nltk.pos_tag(tokens)\n",
    "    if len(tagged_tokens) > 1:\n",
    "        PoS_initial = tagged_tokens[0][1][:2]\n",
    "        PoS_final = tagged_tokens[-1][1][:2]\n",
    "        if ((PoS_initial == 'NN' or PoS_initial == 'JJ') and (PoS_final == 'NN' or PoS_final == 'NS')):\n",
    "            test = True\n",
    "    else:\n",
    "        if len(candidate) > 1 and tagged_tokens[0][1][:2] == 'NN' or tagged_tokens[0][1][:2] == 'NS':\n",
    "            test = True \n",
    "    return test\n",
    "\n",
    "def get_np_candidates(text):\n",
    "    #Definimos las métricas que evaluaran si un n-grama puede ser una collocation\n",
    "    bigram_measures = nltk.collocations.BigramAssocMeasures()\n",
    "    #Tokenizamos y obtenemos los tokens del texto\n",
    "    tokens = [w for w in word_tokenize(text.lower())]\n",
    "    #Búsqueda de bigramas\n",
    "    bigramfinder = BigramCollocationFinder.from_words(tokens)\n",
    "    #Se toman los bigramas que no tienen signos de puntuación, etc.\n",
    "    bigramfinder.apply_word_filter(lambda w: (re.match(r'\\W', w)))\n",
    "    #N mejores candidatos a ser colocaciones, tras pasar por el cálculo del PMI\n",
    "    bigram_candidates = bigramfinder.nbest(bigram_measures.pmi,100)\n",
    "    #Transformación de la tupla del bigrama a collocation\n",
    "    collocation_candidates = [\" \".join(bc) for bc in bigram_candidates]\n",
    "    #Elegimos los candidatos que son sintagmas nominales\n",
    "    np_candidates = [c for c in tokens + collocation_candidates if is_np(c) == True]\n",
    "    return np_candidates\n",
    "\n",
    "opinion = \"I bought an iPhone a few days ago. It was such a nice phone. The touch screen was really cool. \\\n",
    "The voice quality was clear too. Although the battery life was not long, that is ok for me. However, \\\n",
    "my mother was mad with me as I did not tell her before I bought it. She also thought the phone was too expensive, \\\n",
    "and wanted me to return it to the shop\"\n",
    "\n",
    "np_candidates = get_np_candidates(opinion)\n"
   ]
  },
  {
   "cell_type": "code",
   "execution_count": 36,
   "metadata": {},
   "outputs": [],
   "source": [
    "#Transformamos los candidatos a aspecto a sus synsets de Wordnet, cuando estos synsets son nominales\n",
    "\n",
    "from nltk.corpus import wordnet as wn\n",
    "from nltk.stem.wordnet import WordNetLemmatizer\n",
    "\n",
    "lem = WordNetLemmatizer()\n",
    "\n",
    "np_candidates.append('telephone') # Ponemos el hiperónimo de ìPhone\n",
    "\n",
    "candidates_synsets_list = []\n",
    "\n",
    "for npc in np_candidates:\n",
    "    candidates_synsets = wn.synsets(lem.lemmatize(npc.replace(' ','_')),pos=wn.NOUN)\n",
    "    for cs in candidates_synsets:\n",
    "        if \"'\" + npc.replace(' ','_') + \".n\" in str(cs):\n",
    "            candidates_synsets_list.append(cs)\n"
   ]
  },
  {
   "cell_type": "code",
   "execution_count": 37,
   "metadata": {},
   "outputs": [],
   "source": [
    "#Transformamos las propiedades del target, según Wikipedia, a sus synsets de Wordnet, cuando son nominales\n",
    "\n",
    "import requests\n",
    "\n",
    "#Obtener las propiedades del target 'IPhone', según Wikipedia\n",
    "\n",
    "def get_properties(target):\n",
    "    data = requests.get(\"http://dbpedia.org/data/\" + target + \".json\").json()\n",
    "    uris = data[\"http://dbpedia.org/resource/\" + target]\n",
    "    properties = []\n",
    "\n",
    "    for u in uris:\n",
    "        if '/property/' in u:\n",
    "            us = u.split('/')\n",
    "            properties.append(us[-1])       \n",
    "    return properties\n",
    "\n",
    "target = 'IPhone'\n",
    "\n",
    "properties_target = get_properties(target)\n",
    "\n",
    "features_synsets_list = []\n",
    "\n",
    "for pt in properties_target:\n",
    "    features_synsets = wn.synsets(lem.lemmatize(pt.replace(' ','_')),pos=wn.NOUN)\n",
    "    for fs in features_synsets:\n",
    "        if \"'\" + pt + \".n\" in str(fs):\n",
    "            features_synsets_list.append(fs)\n"
   ]
  },
  {
   "cell_type": "code",
   "execution_count": 38,
   "metadata": {},
   "outputs": [
    {
     "name": "stdout",
     "output_type": "stream",
     "text": [
      "[[0.16666667 0.13333333 0.33333333 ... 0.30769231 0.23529412 0.26666667]\n",
      " [0.15384615 0.125      0.46153846 ... 0.57142857 0.44444444 0.5       ]\n",
      " [0.125      0.10526316 0.375      ... 0.35294118 0.28571429 0.31578947]\n",
      " ...\n",
      " [0.38095238 0.57142857 0.11111111 ... 0.10526316 0.08695652 0.0952381 ]\n",
      " [0.44444444 0.77777778 0.13333333 ... 0.125      0.1        0.11111111]\n",
      " [0.44444444 0.66666667 0.13333333 ... 0.125      0.1        0.11111111]]\n"
     ]
    }
   ],
   "source": [
    "#Creamos los vectores que representan a los candidatos a aspecto\n",
    "#Los vectores se construyen calculando la distancia de cada synset del candidato a aspecto con cada synset de \n",
    "#la propiedad del target\n",
    "\n",
    "from numpy import matrix\n",
    "\n",
    "def create_vector(synset, synsets_vocabulary):\n",
    "    vector = [s.wup_similarity(synset) for s in synsets_vocabulary] #Wu and Palmer score\n",
    "    return vector\n",
    "\n",
    "vectors = [create_vector(v,features_synsets_list) for v in candidates_synsets_list]\n",
    "\n",
    "X = matrix(vectors)\n",
    "\n",
    "print(X)\n"
   ]
  },
  {
   "cell_type": "code",
   "execution_count": 39,
   "metadata": {},
   "outputs": [
    {
     "name": "stdout",
     "output_type": "stream",
     "text": [
      "CLASS_0 [Synset('screen.n.01'), Synset('screen.n.03'), Synset('screen.n.04'), Synset('screen.n.05'), Synset('screen.n.09'), Synset('battery.n.02'), Synset('battery.n.05'), Synset('shop.n.01'), Synset('touch_screen.n.01'), Synset('telephone.n.01'), Synset('telephone.n.02')]\n",
      "CLASS_1 [Synset('phone.n.02'), Synset('touch.n.03'), Synset('touch.n.04'), Synset('touch.n.06'), Synset('touch.n.11'), Synset('touch.n.12'), Synset('cool.n.01'), Synset('voice.n.01'), Synset('voice.n.02'), Synset('voice.n.06'), Synset('voice.n.09'), Synset('voice.n.10'), Synset('quality.n.01'), Synset('quality.n.02'), Synset('quality.n.05'), Synset('battery.n.01'), Synset('battery.n.03'), Synset('battery.n.04'), Synset('life.n.01'), Synset('life.n.03'), Synset('life.n.05'), Synset('life.n.06'), Synset('life.n.07'), Synset('phone.n.02'), Synset('return.n.06')]\n",
      "CLASS_2 [Synset('touch.n.01'), Synset('touch.n.05'), Synset('touch.n.08'), Synset('touch.n.09'), Synset('voice.n.03'), Synset('voice.n.05'), Synset('battery.n.07'), Synset('return.n.02'), Synset('return.n.03'), Synset('return.n.05'), Synset('return.n.10'), Synset('return.n.11')]\n",
      "CLASS_3 [Synset('touch.n.02'), Synset('touch.n.10'), Synset('quality.n.03'), Synset('life.n.02'), Synset('life.n.13'), Synset('mother.n.05'), Synset('thought.n.03'), Synset('return.n.12')]\n",
      "CLASS_4 [Synset('voice.n.07'), Synset('life.n.08'), Synset('life.n.10'), Synset('life.n.11'), Synset('mother.n.01'), Synset('mother.n.02'), Synset('mother.n.03'), Synset('mother.n.04'), Synset('tell.n.01')]\n"
     ]
    }
   ],
   "source": [
    "from sklearn.cluster import KMeans\n",
    "\n",
    "#Clustering de los vectores\n",
    "\n",
    "num_clusters = 5\n",
    "\n",
    "km = KMeans(n_clusters=num_clusters, n_init=10) # n_init para mantener la consistencia\n",
    "\n",
    "km.fit(X)\n",
    "\n",
    "labels = km.labels_.tolist()\n",
    "\n",
    "labels_color_map = {\n",
    "    0: '#20b2aa', 1: '#ff7373', 2: '#ffe4e1', 3: '#005073', 4: '#4d0404'\n",
    "}\n",
    "\n",
    "class_0 = []\n",
    "class_1 = []\n",
    "class_2 = []\n",
    "class_3 = []\n",
    "class_4 = []\n",
    "\n",
    "for i in range(len(labels)):\n",
    "    if labels[i] == 0:\n",
    "        class_0.append(candidates_synsets_list[i])\n",
    "    if labels[i] == 1:\n",
    "        class_1.append(candidates_synsets_list[i])\n",
    "    if labels[i] == 2:\n",
    "        class_2.append(candidates_synsets_list[i])\n",
    "    if labels[i] == 3:\n",
    "        class_3.append(candidates_synsets_list[i])\n",
    "    if labels[i] == 4:\n",
    "        class_4.append(candidates_synsets_list[i])\n",
    "\n",
    "print(\"CLASS_0\", class_0)\n",
    "print(\"CLASS_1\", class_1)\n",
    "print(\"CLASS_2\", class_2)\n",
    "print(\"CLASS_3\", class_3)\n",
    "print(\"CLASS_4\", class_4)\n"
   ]
  },
  {
   "cell_type": "code",
   "execution_count": 49,
   "metadata": {},
   "outputs": [
    {
     "data": {
      "image/png": "[encoded data removed]",
      "text/plain": [
       "<Figure size 1152x720 with 1 Axes>"
      ]
     },
     "metadata": {
      "needs_background": "light"
     },
     "output_type": "display_data"
    }
   ],
   "source": [
    "#Visualización\n",
    "\n",
    "from sklearn.decomposition import PCA\n",
    "import matplotlib.pyplot as plt\n",
    "\n",
    "reduced_data = PCA(n_components=2).fit_transform(X)\n",
    "\n",
    "fig, ax = plt.subplots(figsize=(16,10))\n",
    "for index, instance in enumerate(reduced_data):\n",
    "    pca_comp_1, pca_comp_2 = reduced_data[index]\n",
    "    color = labels_color_map[labels[index]]\n",
    "    ax.scatter(pca_comp_1, pca_comp_2, c=color)\n",
    "    ax.annotate(s=str(candidates_synsets_list[index]),xy=(pca_comp_1, pca_comp_2))\n",
    "plt.show()\n"
   ]
  },
  {
   "cell_type": "markdown",
   "metadata": {},
   "source": [
    "#### Detección de los aspectos a partir de <i>opinion words</i> ###"
   ]
  },
  {
   "cell_type": "code",
   "execution_count": 50,
   "metadata": {},
   "outputs": [
    {
     "name": "stdout",
     "output_type": "stream",
     "text": [
      "['bought', 'iphone', 'days', 'phone', 'touch', 'screen', 'cool', 'voice', 'quality', 'battery', 'life', 'ok', 'mother', 'mad', 'tell', 'bought', 'thought', 'phone', 'return', 'shop', 'battery life', 'few days', 'touch screen', 'voice quality', 'nice phone', 'telephone']\n",
      "['bought', 'iphone', 'day', 'phone', 'touch', 'screen', 'voice', 'quality', 'battery', 'life', 'ok', 'mother', 'tell', 'bought', 'thought', 'phone', 'return', 'shop', 'battery_life', 'few_days', 'touchscreen', 'voice_quality', 'nice_phone', 'telephone']\n"
     ]
    }
   ],
   "source": [
    "#Obtenemos los candidatos a ser aspectos y la lista de opinion words\n",
    "\n",
    "import gensim\n",
    "from nltk.stem.wordnet import WordNetLemmatizer\n",
    "\n",
    "lem = WordNetLemmatizer()\n",
    "\n",
    "#Los candidatos a aspecto ya han sido obtenidos antes (np_candidates). \n",
    "#Solo falta lematizarlos\n",
    "\n",
    "print(np_candidates)\n",
    "\n",
    "#Creamos una lista de opinion words a partir del diccionario AFINN\n",
    "opinion_words_file = 'AFINN-111.txt'\n",
    "\n",
    "opinion_words = []\n",
    "\n",
    "with open(opinion_words_file, 'r') as of:\n",
    "    ol = of.readlines()\n",
    "    for wo in ol:\n",
    "        w, o = wo.strip().split('\\t')\n",
    "        opinion_words.append(w)\n",
    "\n",
    "#Obtenemos los lemas unificados de los candidatos a aspecto si no están en la lista de opinion words\n",
    "\n",
    "def unify(l):\n",
    "    term_unified = l\n",
    "    if l == 'touch_screen':\n",
    "        term_unified = 'touchscreen'\n",
    "    return term_unified\n",
    "\n",
    "aspect_candidates = [unify(lem.lemmatize(ac.replace(' ','_'))) for ac in np_candidates if ac not in opinion_words]\n",
    "\n",
    "print(aspect_candidates)\n"
   ]
  },
  {
   "cell_type": "code",
   "execution_count": 51,
   "metadata": {},
   "outputs": [
    {
     "name": "stderr",
     "output_type": "stream",
     "text": [
      "/Library/Frameworks/Python.framework/Versions/3.6/lib/python3.6/site-packages/ipykernel_launcher.py:21: DeprecationWarning: Call to deprecated `__getitem__` (Method will be removed in 4.0.0, use self.wv.__getitem__() instead).\n"
     ]
    }
   ],
   "source": [
    "#Cargamos el modelo de opiniones sobre smartphones\n",
    "\n",
    "model= gensim.models.Word2Vec.load('MODEL-MOBILEPHONE-REVIEWS-PL2')\n",
    "\n",
    "#Creamos el vocabulario, que es la lista de candidatos a término y las opinion words que están en la opinión\n",
    "#y en el modelo\n",
    "\n",
    "opinion_words_in_opinion = [ow for ow in word_tokenize(opinion.lower()) if ow in opinion_words]\n",
    "\n",
    "vocabulary = aspect_candidates + opinion_words_in_opinion\n",
    "\n",
    "vocabulary_in_model = [v.replace('_',' ') for v in vocabulary if v.replace('_',' ') in list(model.wv.vocab)]\n",
    "\n",
    "#Creamos los vectores de los elementos del vocabulario, calculando la distancia (cosine similarity) entre el\n",
    "#vector del término del vocabulario según el modelo de opiniones de smartphones y los vectores de los demás\n",
    "#elementos del vocabulario según el mismo modelo\n",
    "\n",
    "import numpy as np\n",
    "\n",
    "def sem_distance(a, o):\n",
    "    cosine_similarity = np.dot(model[a], model[o]) / (np.linalg.norm(model[a])* np.linalg.norm(model[o]))\n",
    "    return cosine_similarity\n",
    "\n",
    "\n",
    "def create_vector(v, vocabulary):\n",
    "    vector = [sem_distance(v, vb) for vb in vocabulary]\n",
    "    return vector\n",
    "\n",
    "vectors = [create_vector(v,vocabulary_in_model) for v in vocabulary_in_model]\n"
   ]
  },
  {
   "cell_type": "code",
   "execution_count": 52,
   "metadata": {},
   "outputs": [
    {
     "name": "stdout",
     "output_type": "stream",
     "text": [
      "CLASS_0 ['iphone', 'touch', 'screen', 'voice', 'quality', 'ok', 'tell', 'touchscreen', 'voice quality', 'nice', 'cool', 'clear']\n",
      "CLASS_1 ['bought', 'mother', 'bought', 'thought', 'return', 'shop', 'telephone', 'mad']\n",
      "CLASS_2 ['day', 'phone', 'battery', 'life', 'phone', 'battery life']\n"
     ]
    }
   ],
   "source": [
    "#Clustering\n",
    "\n",
    "from numpy import matrix\n",
    "from sklearn.cluster import KMeans\n",
    "from sklearn.decomposition import PCA\n",
    "import matplotlib.pyplot as plt\n",
    "\n",
    "X = matrix(vectors)\n",
    "\n",
    "num_clusters = 3\n",
    "\n",
    "km = KMeans(n_clusters=num_clusters, n_init=5) # initial number in order to keep consistency\n",
    "\n",
    "km.fit(X)\n",
    "\n",
    "labels = km.labels_.tolist()\n",
    "\n",
    "class_0 = []\n",
    "class_1 = []\n",
    "class_2 = []\n",
    "\n",
    "for i in range(len(labels)):\n",
    "    if labels[i] == 0:\n",
    "        class_0.append(vocabulary_in_model[i])\n",
    "    if labels[i] == 1:\n",
    "        class_1.append(vocabulary_in_model[i])\n",
    "    if labels[i] == 2:\n",
    "        class_2.append(vocabulary_in_model[i])\n",
    "\n",
    "print(\"CLASS_0\", class_0)\n",
    "print(\"CLASS_1\", class_1)\n",
    "print(\"CLASS_2\", class_2)\n"
   ]
  },
  {
   "cell_type": "markdown",
   "metadata": {},
   "source": [
    "### 1.3 Detección de la polaridad ###"
   ]
  },
  {
   "cell_type": "markdown",
   "metadata": {},
   "source": [
    "#### Preprocesado ####"
   ]
  },
  {
   "cell_type": "code",
   "execution_count": 53,
   "metadata": {},
   "outputs": [
    {
     "name": "stdout",
     "output_type": "stream",
     "text": [
      "Adicto a la lectura. Apasionado de la política y la economía. Balonmano, naturaleza y mucha música.😎.        Dibujo tebeos como croquetas, feministo 😈 y... a veces soy Clara te canta 🎤\n",
      "Adicto a la lectura. Apasionado de la política y la economía. Balonmano, naturaleza y mucha música..        Dibujo tebeos como croquetas, feministo  y... a veces soy Clara te canta \n",
      "AEP es un proyecto para difundir material anarquista existente. https://t.co/Nxv9arm4Ti en consulta\n",
      "AEP es un proyecto para difundir material anarquista existente. en consulta\n",
      "Tinc 4 #PremisTuitort per ser cuqui i fer #Rubiadas, dos @GatsMalvats\n",
      "Tinc 4 PremisTuitort per ser cuqui i fer Rubiadas, dos GatsMalvats\n"
     ]
    }
   ],
   "source": [
    "#Preprocesado de twits\n",
    "\n",
    "import re\n",
    "\n",
    "##Quitar emojis\n",
    "\n",
    "text = \"Adicto a la lectura. Apasionado de la política y la economía. Balonmano, naturaleza y mucha música.😎.\\\n",
    "        Dibujo tebeos como croquetas, feministo 😈 y... a veces soy Clara te canta 🎤\"\n",
    "\n",
    "emoji_pattern = re.compile(\"[\"\n",
    "        u\"\\U0001F600-\\U0001F64F\"  # emoticons\n",
    "        u\"\\U0001F300-\\U0001F5FF\"  # symbols & pictographs\n",
    "        u\"\\U0001F680-\\U0001F6FF\"  # transport & map symbols\n",
    "        u\"\\U0001F1E0-\\U0001F1FF\"  # flags (iOS)\n",
    "                           \"]+\", flags=re.UNICODE)\n",
    "print(text)\n",
    "print(emoji_pattern.sub(r'', text)) # no emoji\n",
    "\n",
    "## Quitar urls\n",
    "\n",
    "text = \"AEP es un proyecto para difundir material anarquista existente. https://t.co/Nxv9arm4Ti en consulta\"\n",
    "\n",
    "no_http_text = re.sub(r'(\\s)http\\S+', '', text) #\\S+ matches any non-whitespace character\n",
    "\n",
    "print (text)\n",
    "print(no_http_text)\n",
    "\n",
    "## Quitar hashtags\n",
    "\n",
    "text = \"Tinc 4 #PremisTuitort per ser cuqui i fer #Rubiadas, dos @GatsMalvats\"\n",
    "\n",
    "print(text)\n",
    "\n",
    "no_hash_arr_text = text = re.sub(r'[#@]', '', text)\n",
    "\n",
    "print (no_hash_arr_text)\n"
   ]
  },
  {
   "cell_type": "markdown",
   "metadata": {},
   "source": [
    "#### Clasificación de la polaridad de un twit ####"
   ]
  },
  {
   "cell_type": "code",
   "execution_count": 54,
   "metadata": {},
   "outputs": [
    {
     "name": "stdout",
     "output_type": "stream",
     "text": [
      "TRAINING TWEETS ['I love this car.', 'This view is amazing.', 'I feel great this morning.', 'I am so excited about the concert.', 'He is my best friend.', 'I do not like this car.', 'This view is horrible.', 'I feel tired this morning.', 'I am not looking forward to the concert.', 'He is my enemy.']\n",
      "TRAINING DATA LABELS ['POS', 'POS', 'POS', 'POS', 'POS', 'NEG', 'NEG', 'NEG', 'NEG', 'NEG']\n",
      "LA POLARIDAD DE Larry is my friend ES POS\n",
      "LA POLARIDAD DE The film is horrible ES NEG\n"
     ]
    }
   ],
   "source": [
    "import nltk\n",
    "from nltk import word_tokenize\n",
    "\n",
    "#Corpus de entrenamiento\n",
    "\n",
    "#Tweets que se consideran de polaridad positiva\n",
    "\n",
    "pos_tweets = ['I love this car.', 'This view is amazing.', 'I feel great this morning.', \n",
    "              'I am so excited about the concert.', 'He is my best friend.']\n",
    "\n",
    "#Tweets que se consideran de polaridad negativa\n",
    "\n",
    "neg_tweets = ['I do not like this car.', 'This view is horrible.', 'I feel tired this morning.',\n",
    "              'I am not looking forward to the concert.', 'He is my enemy.']\n",
    "\n",
    "#Creamos los documentos de entrenamiento: uno para cada tipo opinión\n",
    "\n",
    "docs = pos_tweets + neg_tweets\n",
    "\n",
    "print(\"TRAINING TWEETS\",docs)\n",
    "\n",
    "#Definimos el vectorizador\n",
    "from sklearn.feature_extraction.text import TfidfVectorizer\n",
    "import numpy as np\n",
    "\n",
    "vectorizer = TfidfVectorizer(\n",
    "    analyzer= 'word',\n",
    " )\n",
    "\n",
    "#Entrenamiento\n",
    "\n",
    "data_labels = []\n",
    "\n",
    "for i in range(len(pos_tweets)):\n",
    "    data_labels.append('POS')                #Data labelling\n",
    "\n",
    "for i in range(len(neg_tweets)):\n",
    "    data_labels.append('NEG')\n",
    "\n",
    "print(\"TRAINING DATA LABELS\", data_labels)\n",
    "\n",
    "X = vectorizer.fit_transform(docs)\n",
    "\n",
    "X_train = X.toarray()  #Matriz con los vectores de entrenamiento\n",
    "\n",
    "from sklearn.naive_bayes import MultinomialNB\n",
    "\n",
    "classifier = MultinomialNB()  #Definición del clasificador bayesiano\n",
    "\n",
    "bayes_model = classifier.fit(X=X_train, y=data_labels)  #Entrenamiento del clasificador aplicando \n",
    "                                                        #el método al corpus de entrenamiento\n",
    "\n",
    "#Predicción\n",
    "\n",
    "new_tweets = ['Larry is my friend', 'The film is horrible']\n",
    "\n",
    "X1 = vectorizer.transform(new_tweets)\n",
    "\n",
    "y_pred = bayes_model.predict(X1)\n",
    "\n",
    "for i in range(len(new_tweets)):\n",
    "    print (\"LA POLARIDAD DE\", new_tweets[i], \"ES\", y_pred[i])\n"
   ]
  },
  {
   "cell_type": "markdown",
   "metadata": {},
   "source": [
    "### 1.4 <i>Opinion holder</i> ###"
   ]
  },
  {
   "cell_type": "markdown",
   "metadata": {},
   "source": [
    "<b>Obtener el perfil de una cuenta</b>"
   ]
  },
  {
   "cell_type": "code",
   "execution_count": 55,
   "metadata": {},
   "outputs": [
    {
     "ename": "ModuleNotFoundError",
     "evalue": "No module named 'tweepy'",
     "output_type": "error",
     "traceback": [
      "\u001b[0;31m---------------------------------------------------------------------------\u001b[0m",
      "\u001b[0;31mModuleNotFoundError\u001b[0m                       Traceback (most recent call last)",
      "\u001b[0;32m<ipython-input-55-a6239ffa0ce8>\u001b[0m in \u001b[0;36m<module>\u001b[0;34m\u001b[0m\n\u001b[0;32m----> 1\u001b[0;31m \u001b[0;32mimport\u001b[0m \u001b[0mtweepy\u001b[0m\u001b[0;34m\u001b[0m\u001b[0;34m\u001b[0m\u001b[0m\n\u001b[0m\u001b[1;32m      2\u001b[0m \u001b[0;32mfrom\u001b[0m \u001b[0mtweepy\u001b[0m \u001b[0;32mimport\u001b[0m \u001b[0mAPI\u001b[0m\u001b[0;34m\u001b[0m\u001b[0;34m\u001b[0m\u001b[0m\n\u001b[1;32m      3\u001b[0m \u001b[0;32mfrom\u001b[0m \u001b[0mtweepy\u001b[0m \u001b[0;32mimport\u001b[0m \u001b[0mOAuthHandler\u001b[0m\u001b[0;34m\u001b[0m\u001b[0;34m\u001b[0m\u001b[0m\n\u001b[1;32m      4\u001b[0m \u001b[0;34m\u001b[0m\u001b[0m\n\u001b[1;32m      5\u001b[0m \u001b[0mCONSUMER_KEY\u001b[0m \u001b[0;34m=\u001b[0m \u001b[0mXXXXX\u001b[0m\u001b[0;34m\u001b[0m\u001b[0;34m\u001b[0m\u001b[0m\n",
      "\u001b[0;31mModuleNotFoundError\u001b[0m: No module named 'tweepy'"
     ]
    }
   ],
   "source": [
    "import tweepy\n",
    "from tweepy import API\n",
    "from tweepy import OAuthHandler\n",
    "\n",
    "CONSUMER_KEY = XXXXX\n",
    "CONSUMER_SECRET = XXXXX\n",
    "ACCESS_KEY = XXXXX\n",
    "ACCESS_SECRET = XXXXX\n",
    "\n",
    "auth = tweepy.OAuthHandler(CONSUMER_KEY, CONSUMER_SECRET)\n",
    "auth.set_access_token(ACCESS_KEY, ACCESS_SECRET)\n",
    "\n",
    "api = tweepy.API(auth)\n",
    "\n",
    "description_user = api.get_user('@realDonaldTrump').description\n",
    "\n",
    "print (description_user)\n"
   ]
  },
  {
   "cell_type": "markdown",
   "metadata": {},
   "source": [
    "### 1.5 Tiempo ###"
   ]
  },
  {
   "cell_type": "code",
   "execution_count": 56,
   "metadata": {},
   "outputs": [
    {
     "name": "stderr",
     "output_type": "stream",
     "text": [
      "/Library/Frameworks/Python.framework/Versions/3.6/lib/python3.6/site-packages/ipykernel_launcher.py:11: SettingWithCopyWarning: \n",
      "A value is trying to be set on a copy of a slice from a DataFrame.\n",
      "Try using .loc[row_indexer,col_indexer] = value instead\n",
      "\n",
      "See the caveats in the documentation: http://pandas.pydata.org/pandas-docs/stable/indexing.html#indexing-view-versus-copy\n",
      "  # This is added back by InteractiveShellApp.init_path()\n"
     ]
    },
    {
     "name": "stdout",
     "output_type": "stream",
     "text": [
      "Time\n",
      "2016-03-31      10\n",
      "2016-04-01      28\n",
      "2016-04-02      19\n",
      "2016-04-03     359\n",
      "2016-04-04    1450\n",
      "2016-04-05     145\n",
      "2016-04-06      77\n",
      "2016-04-07      20\n",
      "2016-04-08      66\n",
      "Name: Time, dtype: int64\n"
     ]
    },
    {
     "data": {
      "image/png": "[encoded data removed]",
      "text/plain": [
       "<Figure size 1080x504 with 1 Axes>"
      ]
     },
     "metadata": {
      "needs_background": "light"
     },
     "output_type": "display_data"
    }
   ],
   "source": [
    "#Timeline de los twits publicados sobre la controversia generada por el programa La Gent Normal.\n",
    "\n",
    "import pandas as pd\n",
    "import matplotlib.pyplot as plt\n",
    "from datetime import datetime as dt\n",
    "\n",
    "df =pd.read_csv(\"lagentnormal-CORPUS.csv\", sep='\\t', encoding='utf-8')\n",
    "\n",
    "df1 = df[['Time','User']]\n",
    "\n",
    "df1['Time'] = pd.to_datetime(df1['Time']).dt.date #Quitar horas y minutos\n",
    "\n",
    "df1 = df1.groupby('Time').Time.count()\n",
    "print (df1)\n",
    "\n",
    "fig, ax = plt.subplots(figsize=(15,7))\n",
    "df1.plot(title='# Tweets during the controversy timeline')\n",
    "plt.show()\n"
   ]
  },
  {
   "cell_type": "code",
   "execution_count": null,
   "metadata": {},
   "outputs": [],
   "source": []
  }
 ],
 "metadata": {
  "kernelspec": {
   "display_name": "Python 3",
   "language": "python",
   "name": "python3"
  },
  "language_info": {
   "codemirror_mode": {
    "name": "ipython",
    "version": 3
   },
   "file_extension": ".py",
   "mimetype": "text/x-python",
   "name": "python",
   "nbconvert_exporter": "python",
   "pygments_lexer": "ipython3",
   "version": "3.6.7"
  }
 },
 "nbformat": 4,
 "nbformat_minor": 2
}
